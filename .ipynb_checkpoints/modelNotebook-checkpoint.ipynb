{
 "cells": [
  {
   "cell_type": "code",
   "execution_count": 87,
   "metadata": {},
   "outputs": [],
   "source": [
    "#!/usr/bin/env python3\n",
    "import numpy as np\n",
    "import math\n",
    "import tensorflow as tf\n",
    "from tensorflow import keras\n",
    "from tensorflow.keras import layers\n",
    "\n",
    "import IPython.display\n",
    "import matplotlib.pyplot as plt\n",
    "\n",
    "import seaborn as sns\n",
    "import pandas as pd\n",
    "from sklearn.model_selection import train_test_split\n",
    "from sklearn.preprocessing import StandardScaler\n",
    "\n",
    "# Suggestions:\n",
    "# 0Linear regression as our baseline\n",
    "\n",
    "# 1Baseline, take mean of the data points (MPG) to determine baseline\n",
    "    #younes' suggestion when we predict using Total MPG\n",
    "    #we might just ignore this then\n",
    "\n",
    "# 2Another thing to predict: rate of change of MPG, maybe how much we are accelerating\n",
    "# When velocity decreases, how fast are we decreasing by? (acceleration)\n",
    "    #good idea to create a new parameter on rate of change of speed\n",
    "    #rate of change of MPG as output - not sure\n",
    "\n",
    "# 3Generate test set using equation\n",
    "    #need some clarification why\n",
    "    #not useful -> likely quite simple and won't demonstrate the comptuational expensive problem \n",
    "    #that we are trying to calculate\n",
    "    \n",
    "    #useful -> why compare theoretical values when we have actual values?\n",
    "\n",
    "# 4Remove the features that don't really correlate with our MPG - i dont think that we need to do that"
   ]
  },
  {
   "cell_type": "code",
   "execution_count": 88,
   "metadata": {},
   "outputs": [],
   "source": [
    "#NEW: write comments?\n",
    "#OLD: aggregate the data points for five files into aggregate.csv. i have removed the time predictor from the data set\n",
    "\n",
    "# cleaned, correct dataset - elaborate on \"clean\" pls\n",
    "files = \"./data/merged.csv\"\n",
    "\n",
    "raw_dataset = pd.read_csv(files, sep=\",\", skipinitialspace=True)\n",
    "dataset = raw_dataset.copy()\n",
    "\n",
    "#remove whitespace in front of column name\n",
    "dataset.columns = dataset.columns.str.lstrip()"
   ]
  },
  {
   "cell_type": "code",
   "execution_count": 89,
   "metadata": {},
   "outputs": [
    {
     "data": {
      "text/html": [
       "<div>\n",
       "<style>\n",
       "    .dataframe thead tr:only-child th {\n",
       "        text-align: right;\n",
       "    }\n",
       "\n",
       "    .dataframe thead th {\n",
       "        text-align: left;\n",
       "    }\n",
       "\n",
       "    .dataframe tbody tr th {\n",
       "        vertical-align: top;\n",
       "    }\n",
       "</style>\n",
       "<table border=\"1\" class=\"dataframe\">\n",
       "  <thead>\n",
       "    <tr style=\"text-align: right;\">\n",
       "      <th></th>\n",
       "      <th>Absolute load value (%)</th>\n",
       "      <th>Absolute throttle position (%)</th>\n",
       "      <th>Ambient air temperature (F)</th>\n",
       "      <th>Barometric pressure (inHg)</th>\n",
       "      <th>Calculated load value (%)</th>\n",
       "      <th>Commanded fuel rail pressure A (inHg)</th>\n",
       "      <th>Engine coolant temperature (F)</th>\n",
       "      <th>Engine RPM (RPM)</th>\n",
       "      <th>Fuel level input (%)</th>\n",
       "      <th>Fuel rail pressure (psi)</th>\n",
       "      <th>Fuel/Air commanded equivalence ratio</th>\n",
       "      <th>Intake air temperature (F)</th>\n",
       "      <th>Intake manifold absolute pressure (inHg)</th>\n",
       "      <th>Long term fuel % trim - Bank 1 (%)</th>\n",
       "      <th>Mass air flow rate (lb/min)</th>\n",
       "      <th>Vehicle speed (MPH)</th>\n",
       "      <th>Fuel rate (gal/hr)</th>\n",
       "      <th>Instant fuel economy (MPG)</th>\n",
       "    </tr>\n",
       "  </thead>\n",
       "  <tbody>\n",
       "    <tr>\n",
       "      <th>4855</th>\n",
       "      <td>19.60784</td>\n",
       "      <td>11.76471</td>\n",
       "      <td>59.0</td>\n",
       "      <td>29.8254</td>\n",
       "      <td>33.72549</td>\n",
       "      <td>924.2921</td>\n",
       "      <td>185.0</td>\n",
       "      <td>560.25</td>\n",
       "      <td>74.5098</td>\n",
       "      <td>443.8155</td>\n",
       "      <td>0.994239</td>\n",
       "      <td>86.0</td>\n",
       "      <td>12.40264</td>\n",
       "      <td>-1.5625</td>\n",
       "      <td>0.129654</td>\n",
       "      <td>0.0</td>\n",
       "      <td>0.095216</td>\n",
       "      <td>0.0</td>\n",
       "    </tr>\n",
       "    <tr>\n",
       "      <th>4856</th>\n",
       "      <td>19.60784</td>\n",
       "      <td>11.37255</td>\n",
       "      <td>59.0</td>\n",
       "      <td>29.8254</td>\n",
       "      <td>33.72549</td>\n",
       "      <td>918.3861</td>\n",
       "      <td>185.0</td>\n",
       "      <td>560.00</td>\n",
       "      <td>74.5098</td>\n",
       "      <td>443.8155</td>\n",
       "      <td>0.994239</td>\n",
       "      <td>86.0</td>\n",
       "      <td>12.40264</td>\n",
       "      <td>-1.5625</td>\n",
       "      <td>0.244755</td>\n",
       "      <td>0.0</td>\n",
       "      <td>0.163490</td>\n",
       "      <td>0.0</td>\n",
       "    </tr>\n",
       "    <tr>\n",
       "      <th>4857</th>\n",
       "      <td>19.60784</td>\n",
       "      <td>11.37255</td>\n",
       "      <td>59.0</td>\n",
       "      <td>29.8254</td>\n",
       "      <td>33.33333</td>\n",
       "      <td>903.6210</td>\n",
       "      <td>185.0</td>\n",
       "      <td>611.00</td>\n",
       "      <td>74.5098</td>\n",
       "      <td>439.4644</td>\n",
       "      <td>0.994239</td>\n",
       "      <td>86.0</td>\n",
       "      <td>11.81204</td>\n",
       "      <td>-1.5625</td>\n",
       "      <td>0.264600</td>\n",
       "      <td>0.0</td>\n",
       "      <td>0.176746</td>\n",
       "      <td>0.0</td>\n",
       "    </tr>\n",
       "    <tr>\n",
       "      <th>4858</th>\n",
       "      <td>18.43137</td>\n",
       "      <td>12.94118</td>\n",
       "      <td>59.0</td>\n",
       "      <td>29.8254</td>\n",
       "      <td>40.78431</td>\n",
       "      <td>1328.8540</td>\n",
       "      <td>185.0</td>\n",
       "      <td>686.50</td>\n",
       "      <td>74.5098</td>\n",
       "      <td>617.8608</td>\n",
       "      <td>0.994239</td>\n",
       "      <td>86.0</td>\n",
       "      <td>13.58385</td>\n",
       "      <td>-1.5625</td>\n",
       "      <td>0.269892</td>\n",
       "      <td>0.0</td>\n",
       "      <td>0.180281</td>\n",
       "      <td>0.0</td>\n",
       "    </tr>\n",
       "    <tr>\n",
       "      <th>4859</th>\n",
       "      <td>24.31373</td>\n",
       "      <td>12.54902</td>\n",
       "      <td>59.0</td>\n",
       "      <td>29.8254</td>\n",
       "      <td>40.00000</td>\n",
       "      <td>1154.6270</td>\n",
       "      <td>185.0</td>\n",
       "      <td>712.25</td>\n",
       "      <td>74.5098</td>\n",
       "      <td>558.3953</td>\n",
       "      <td>0.994239</td>\n",
       "      <td>86.0</td>\n",
       "      <td>14.17445</td>\n",
       "      <td>-1.5625</td>\n",
       "      <td>0.367794</td>\n",
       "      <td>0.0</td>\n",
       "      <td>0.245677</td>\n",
       "      <td>0.0</td>\n",
       "    </tr>\n",
       "  </tbody>\n",
       "</table>\n",
       "</div>"
      ],
      "text/plain": [
       "      Absolute load value (%)  Absolute throttle position (%)  \\\n",
       "4855                 19.60784                        11.76471   \n",
       "4856                 19.60784                        11.37255   \n",
       "4857                 19.60784                        11.37255   \n",
       "4858                 18.43137                        12.94118   \n",
       "4859                 24.31373                        12.54902   \n",
       "\n",
       "      Ambient air temperature (F)  Barometric pressure (inHg)  \\\n",
       "4855                         59.0                     29.8254   \n",
       "4856                         59.0                     29.8254   \n",
       "4857                         59.0                     29.8254   \n",
       "4858                         59.0                     29.8254   \n",
       "4859                         59.0                     29.8254   \n",
       "\n",
       "      Calculated load value (%)  Commanded fuel rail pressure A (inHg)  \\\n",
       "4855                   33.72549                               924.2921   \n",
       "4856                   33.72549                               918.3861   \n",
       "4857                   33.33333                               903.6210   \n",
       "4858                   40.78431                              1328.8540   \n",
       "4859                   40.00000                              1154.6270   \n",
       "\n",
       "      Engine coolant temperature (F)  Engine RPM (RPM)  Fuel level input (%)  \\\n",
       "4855                           185.0            560.25               74.5098   \n",
       "4856                           185.0            560.00               74.5098   \n",
       "4857                           185.0            611.00               74.5098   \n",
       "4858                           185.0            686.50               74.5098   \n",
       "4859                           185.0            712.25               74.5098   \n",
       "\n",
       "      Fuel rail pressure (psi)  Fuel/Air commanded equivalence ratio  \\\n",
       "4855                  443.8155                              0.994239   \n",
       "4856                  443.8155                              0.994239   \n",
       "4857                  439.4644                              0.994239   \n",
       "4858                  617.8608                              0.994239   \n",
       "4859                  558.3953                              0.994239   \n",
       "\n",
       "      Intake air temperature (F)  Intake manifold absolute pressure (inHg)  \\\n",
       "4855                        86.0                                  12.40264   \n",
       "4856                        86.0                                  12.40264   \n",
       "4857                        86.0                                  11.81204   \n",
       "4858                        86.0                                  13.58385   \n",
       "4859                        86.0                                  14.17445   \n",
       "\n",
       "      Long term fuel % trim - Bank 1 (%)  Mass air flow rate (lb/min)  \\\n",
       "4855                             -1.5625                     0.129654   \n",
       "4856                             -1.5625                     0.244755   \n",
       "4857                             -1.5625                     0.264600   \n",
       "4858                             -1.5625                     0.269892   \n",
       "4859                             -1.5625                     0.367794   \n",
       "\n",
       "      Vehicle speed (MPH)  Fuel rate (gal/hr)  Instant fuel economy (MPG)  \n",
       "4855                  0.0            0.095216                         0.0  \n",
       "4856                  0.0            0.163490                         0.0  \n",
       "4857                  0.0            0.176746                         0.0  \n",
       "4858                  0.0            0.180281                         0.0  \n",
       "4859                  0.0            0.245677                         0.0  "
      ]
     },
     "execution_count": 89,
     "metadata": {},
     "output_type": "execute_result"
    }
   ],
   "source": [
    "#To-do: consider experimenting what happens when you remove it.\n",
    "#if the maxNum = 45, there are ___1788___ obs whose MPG > 45\n",
    "\n",
    "#a function that rounds down any value above 45 to 45.\n",
    "#39 is the avg highway IFE. we then choose the number 45.\n",
    "#see our doc/write up for more info?\n",
    "def set_max_instant_fuel_eco(dataset, max_Num):\n",
    "#    count = 0\n",
    "    copy = dataset.copy()\n",
    "    for i in range(len(dataset.index)):\n",
    "        if dataset.iloc[i, len(dataset.columns) - 1] > max_Num:\n",
    "#            count += 1\n",
    "            copy.iloc[i, len(dataset.columns) - 1] = max_Num\n",
    "#    print(count)\n",
    "    return copy\n",
    "max_Num = 45\n",
    "maxed_dataset = set_max_instant_fuel_eco(dataset, max_Num)\n",
    "maxed_dataset.tail() #check what the data table looks like"
   ]
  },
  {
   "cell_type": "code",
   "execution_count": 90,
   "metadata": {},
   "outputs": [],
   "source": [
    "#Plotting a histograph to see distribution of Vehicle speed (MPH) \n",
    "#sns.distplot(maxedDataSet['Vehicle speed (MPH)']);"
   ]
  },
  {
   "cell_type": "code",
   "execution_count": 91,
   "metadata": {},
   "outputs": [
    {
     "data": {
      "image/png": "[encoded data removed]",
      "text/plain": [
       "<matplotlib.figure.Figure at 0x1a2bb52320>"
      ]
     },
     "metadata": {
      "needs_background": "light"
     },
     "output_type": "display_data"
    },
    {
     "data": {
      "text/plain": [
       "<matplotlib.figure.Figure at 0x1a2bd8ce80>"
      ]
     },
     "metadata": {},
     "output_type": "display_data"
    }
   ],
   "source": [
    "set35 = np.full(4859, 35)\n",
    "set35\n",
    "plt.plot(maxedDataSet['Vehicle speed (MPH)'], color='g')\n",
    "plt.plot(set35, color='orange')\n",
    "plt.xlabel('Observation Number #')\n",
    "plt.ylabel('Vehicle Speed (MPH)')\n",
    "plt.title('Plot of Vehicle Speed')\n",
    "plt.figure(figsize=(36, 32))\n",
    "plt.show()"
   ]
  },
  {
   "cell_type": "code",
   "execution_count": 95,
   "metadata": {},
   "outputs": [
    {
     "name": "stdout",
     "output_type": "stream",
     "text": [
      "1536\n"
     ]
    },
    {
     "ename": "AttributeError",
     "evalue": "'int' object has no attribute 'index'",
     "output_type": "error",
     "traceback": [
      "\u001b[0;31m---------------------------------------------------------------------------\u001b[0m",
      "\u001b[0;31mAttributeError\u001b[0m                            Traceback (most recent call last)",
      "\u001b[0;32m<ipython-input-95-9d5662def1a5>\u001b[0m in \u001b[0;36m<module>\u001b[0;34m\u001b[0m\n\u001b[1;32m     16\u001b[0m \u001b[0mlist_highway_speed\u001b[0m \u001b[0;34m=\u001b[0m \u001b[0mfindHighwaySpeed\u001b[0m\u001b[0;34m(\u001b[0m\u001b[0mdataset\u001b[0m\u001b[0;34m,\u001b[0m \u001b[0;36m35\u001b[0m\u001b[0;34m)\u001b[0m\u001b[0;34m\u001b[0m\u001b[0;34m\u001b[0m\u001b[0m\n\u001b[1;32m     17\u001b[0m \u001b[0;34m\u001b[0m\u001b[0m\n\u001b[0;32m---> 18\u001b[0;31m \u001b[0;32mfor\u001b[0m \u001b[0mi\u001b[0m \u001b[0;32min\u001b[0m \u001b[0mrange\u001b[0m\u001b[0;34m(\u001b[0m\u001b[0mlen\u001b[0m\u001b[0;34m(\u001b[0m\u001b[0mlist_highway_speed\u001b[0m\u001b[0;34m.\u001b[0m\u001b[0mindex\u001b[0m\u001b[0;34m)\u001b[0m\u001b[0;34m)\u001b[0m\u001b[0;34m:\u001b[0m\u001b[0;34m\u001b[0m\u001b[0;34m\u001b[0m\u001b[0m\n\u001b[0m\u001b[1;32m     19\u001b[0m     \u001b[0mprint\u001b[0m\u001b[0;34m(\u001b[0m\u001b[0mlist_highway_speed\u001b[0m\u001b[0;34m[\u001b[0m\u001b[0mi\u001b[0m\u001b[0;34m]\u001b[0m\u001b[0;34m)\u001b[0m\u001b[0;34m\u001b[0m\u001b[0;34m\u001b[0m\u001b[0m\n",
      "\u001b[0;31mAttributeError\u001b[0m: 'int' object has no attribute 'index'"
     ]
    }
   ],
   "source": [
    "#dataset.iloc[:, len(dataset.columns) - 3] #yes - way to access speed\n",
    "\n",
    "#a function that counts how many data points are that whose speed is more than 35 \n",
    "#(meaning that the car is in the highway)\n",
    "\n",
    "def findHighwaySpeed(dataset, maxNum):\n",
    "    count = 0\n",
    "    copy = dataset.copy()\n",
    "    arraySpeed = []\n",
    "    for i in range(len(dataset.index)):\n",
    "        if dataset.iloc[i, len(dataset.columns) - 3] > maxNum:\n",
    "            count += 1\n",
    "            arraySpeed.append(i)\n",
    "    print(count)\n",
    "    return i\n",
    "list_highway_speed = findHighwaySpeed(dataset, 35)\n",
    "\n",
    "#for i in range(len(list_highway_speed.index)):\n",
    "#    print(list_highway_speed[i])\n"
   ]
  },
  {
   "cell_type": "code",
   "execution_count": 64,
   "metadata": {
    "scrolled": true
   },
   "outputs": [
    {
     "name": "stdout",
     "output_type": "stream",
     "text": [
      "CPU times: user 4.25 ms, sys: 4.45 ms, total: 8.7 ms\n",
      "Wall time: 6.86 ms\n"
     ]
    }
   ],
   "source": [
    "%%time \n",
    "#set seed here!\n",
    "\n",
    "# Bugs to fix: split evenly driving on the high way vs city (look at speed for this)\n",
    "# Split evenly the data amongst the datasets\n",
    "\n",
    "\n",
    "\n",
    "#creating data and splitting and random shuffling\n",
    "#https://stackoverflow.com/questions/38250710/how-to-split-data-into-3-sets-train-validation-and-test/38251213#38251213\n",
    "def train_validate_test_split(df, train_percent=.6, validate_percent=.2, seed=None):\n",
    "    np.random.seed(seed)\n",
    "    perm = np.random.permutation(df.index)\n",
    "    m = len(df.index)\n",
    "    train_end = int(train_percent * m)\n",
    "    validate_end = int(validate_percent * m) + train_end\n",
    "    train = df.loc[perm[:train_end]]\n",
    "    validate = df.loc[perm[train_end:validate_end]]\n",
    "    test = df.loc[perm[validate_end:]]\n",
    "    return train, validate, test\n",
    "\n",
    "np.random.seed(88)\n",
    "train, validate, test = train_validate_test_split(maxedDataSet)\n",
    "\n",
    "train_labels = train.pop(\"Instant fuel economy (MPG)\")\n",
    "validate_labels = validate.pop(\"Instant fuel economy (MPG)\")\n",
    "test_labels = test.pop(\"Instant fuel economy (MPG)\")"
   ]
  },
  {
   "cell_type": "code",
   "execution_count": 65,
   "metadata": {},
   "outputs": [],
   "source": [
    "#train.dtypes"
   ]
  },
  {
   "cell_type": "code",
   "execution_count": 66,
   "metadata": {},
   "outputs": [
    {
     "data": {
      "text/plain": [
       "count    2916.000000\n",
       "mean       27.049038\n",
       "std        22.264211\n",
       "min         0.000000\n",
       "25%         6.213712\n",
       "50%        25.476220\n",
       "75%        39.767760\n",
       "max        75.807290\n",
       "Name: Vehicle speed (MPH), dtype: float64"
      ]
     },
     "execution_count": 66,
     "metadata": {},
     "output_type": "execute_result"
    }
   ],
   "source": [
    "train = train.apply(lambda col:pd.to_numeric(col, errors='coerce'))\n",
    "\n",
    "# train_stats is a pandas data frame type\n",
    "train_stats = train.describe(include = 'all')\n",
    "train_stats\n",
    "\n",
    "train_stats['Vehicle speed (MPH)']"
   ]
  },
  {
   "cell_type": "code",
   "execution_count": 35,
   "metadata": {},
   "outputs": [
    {
     "data": {
      "text/plain": [
       "26.835095458710427"
      ]
     },
     "execution_count": 35,
     "metadata": {},
     "output_type": "execute_result"
    }
   ],
   "source": [
    "train_stats['Vehicle speed (MPH)'][1] #mean"
   ]
  },
  {
   "cell_type": "code",
   "execution_count": 36,
   "metadata": {},
   "outputs": [
    {
     "ename": "KeyboardInterrupt",
     "evalue": "",
     "output_type": "error",
     "traceback": [
      "\u001b[0;31m---------------------------------------------------------------------------\u001b[0m",
      "\u001b[0;31mKeyboardInterrupt\u001b[0m                         Traceback (most recent call last)",
      "\u001b[0;32m<ipython-input-36-ef70551d317d>\u001b[0m in \u001b[0;36m<module>\u001b[0;34m\u001b[0m\n\u001b[1;32m     37\u001b[0m \u001b[0mnormed_train\u001b[0m \u001b[0;34m=\u001b[0m \u001b[0mnormalizeSet\u001b[0m\u001b[0;34m(\u001b[0m\u001b[0mtrain\u001b[0m\u001b[0;34m)\u001b[0m\u001b[0;34m\u001b[0m\u001b[0;34m\u001b[0m\u001b[0m\n\u001b[1;32m     38\u001b[0m \u001b[0mnormed_validate\u001b[0m \u001b[0;34m=\u001b[0m \u001b[0mnormalizeSet\u001b[0m\u001b[0;34m(\u001b[0m\u001b[0mvalidate\u001b[0m\u001b[0;34m)\u001b[0m\u001b[0;34m\u001b[0m\u001b[0;34m\u001b[0m\u001b[0m\n\u001b[0;32m---> 39\u001b[0;31m \u001b[0mnormed_test\u001b[0m \u001b[0;34m=\u001b[0m \u001b[0mnormalizeSet\u001b[0m\u001b[0;34m(\u001b[0m\u001b[0mtest\u001b[0m\u001b[0;34m)\u001b[0m\u001b[0;34m\u001b[0m\u001b[0;34m\u001b[0m\u001b[0m\n\u001b[0m",
      "\u001b[0;32m<ipython-input-36-ef70551d317d>\u001b[0m in \u001b[0;36mnormalizeSet\u001b[0;34m(set)\u001b[0m\n\u001b[1;32m     31\u001b[0m \u001b[0;31m#         normalize each each value in a particular feature\u001b[0m\u001b[0;34m\u001b[0m\u001b[0;34m\u001b[0m\u001b[0;34m\u001b[0m\u001b[0m\n\u001b[1;32m     32\u001b[0m         \u001b[0;32mfor\u001b[0m \u001b[0mrow\u001b[0m \u001b[0;32min\u001b[0m \u001b[0mrange\u001b[0m\u001b[0;34m(\u001b[0m\u001b[0mnumRow\u001b[0m\u001b[0;34m)\u001b[0m\u001b[0;34m:\u001b[0m\u001b[0;34m\u001b[0m\u001b[0;34m\u001b[0m\u001b[0m\n\u001b[0;32m---> 33\u001b[0;31m             \u001b[0mset\u001b[0m\u001b[0;34m.\u001b[0m\u001b[0miloc\u001b[0m\u001b[0;34m[\u001b[0m\u001b[0mrow\u001b[0m\u001b[0;34m,\u001b[0m \u001b[0mcol\u001b[0m\u001b[0;34m]\u001b[0m \u001b[0;34m=\u001b[0m \u001b[0mfloat\u001b[0m\u001b[0;34m(\u001b[0m\u001b[0mset\u001b[0m\u001b[0;34m.\u001b[0m\u001b[0miloc\u001b[0m\u001b[0;34m[\u001b[0m\u001b[0mrow\u001b[0m\u001b[0;34m,\u001b[0m \u001b[0mcol\u001b[0m\u001b[0;34m]\u001b[0m \u001b[0;34m-\u001b[0m \u001b[0mmean\u001b[0m\u001b[0;34m)\u001b[0m \u001b[0;34m/\u001b[0m \u001b[0mvar\u001b[0m\u001b[0;34m\u001b[0m\u001b[0;34m\u001b[0m\u001b[0m\n\u001b[0m\u001b[1;32m     34\u001b[0m \u001b[0;31m#             normed_set.iloc[row, col] = float(set.iloc[row, col] - mean) / var\u001b[0m\u001b[0;34m\u001b[0m\u001b[0;34m\u001b[0m\u001b[0;34m\u001b[0m\u001b[0m\n\u001b[1;32m     35\u001b[0m \u001b[0;31m#             print(set.iloc[row, col])\u001b[0m\u001b[0;34m\u001b[0m\u001b[0;34m\u001b[0m\u001b[0;34m\u001b[0m\u001b[0m\n",
      "\u001b[0;32m/anaconda3/lib/python3.6/site-packages/pandas/core/indexing.py\u001b[0m in \u001b[0;36m__setitem__\u001b[0;34m(self, key, value)\u001b[0m\n\u001b[1;32m    177\u001b[0m             \u001b[0mkey\u001b[0m \u001b[0;34m=\u001b[0m \u001b[0mcom\u001b[0m\u001b[0;34m.\u001b[0m\u001b[0m_apply_if_callable\u001b[0m\u001b[0;34m(\u001b[0m\u001b[0mkey\u001b[0m\u001b[0;34m,\u001b[0m \u001b[0mself\u001b[0m\u001b[0;34m.\u001b[0m\u001b[0mobj\u001b[0m\u001b[0;34m)\u001b[0m\u001b[0;34m\u001b[0m\u001b[0;34m\u001b[0m\u001b[0m\n\u001b[1;32m    178\u001b[0m         \u001b[0mindexer\u001b[0m \u001b[0;34m=\u001b[0m \u001b[0mself\u001b[0m\u001b[0;34m.\u001b[0m\u001b[0m_get_setitem_indexer\u001b[0m\u001b[0;34m(\u001b[0m\u001b[0mkey\u001b[0m\u001b[0;34m)\u001b[0m\u001b[0;34m\u001b[0m\u001b[0;34m\u001b[0m\u001b[0m\n\u001b[0;32m--> 179\u001b[0;31m         \u001b[0mself\u001b[0m\u001b[0;34m.\u001b[0m\u001b[0m_setitem_with_indexer\u001b[0m\u001b[0;34m(\u001b[0m\u001b[0mindexer\u001b[0m\u001b[0;34m,\u001b[0m \u001b[0mvalue\u001b[0m\u001b[0;34m)\u001b[0m\u001b[0;34m\u001b[0m\u001b[0;34m\u001b[0m\u001b[0m\n\u001b[0m\u001b[1;32m    180\u001b[0m \u001b[0;34m\u001b[0m\u001b[0m\n\u001b[1;32m    181\u001b[0m     \u001b[0;32mdef\u001b[0m \u001b[0m_has_valid_type\u001b[0m\u001b[0;34m(\u001b[0m\u001b[0mself\u001b[0m\u001b[0;34m,\u001b[0m \u001b[0mk\u001b[0m\u001b[0;34m,\u001b[0m \u001b[0maxis\u001b[0m\u001b[0;34m)\u001b[0m\u001b[0;34m:\u001b[0m\u001b[0;34m\u001b[0m\u001b[0;34m\u001b[0m\u001b[0m\n",
      "\u001b[0;32m/anaconda3/lib/python3.6/site-packages/pandas/core/indexing.py\u001b[0m in \u001b[0;36m_setitem_with_indexer\u001b[0;34m(self, indexer, value)\u001b[0m\n\u001b[1;32m    617\u001b[0m             \u001b[0mself\u001b[0m\u001b[0;34m.\u001b[0m\u001b[0mobj\u001b[0m\u001b[0;34m.\u001b[0m\u001b[0m_consolidate_inplace\u001b[0m\u001b[0;34m(\u001b[0m\u001b[0;34m)\u001b[0m\u001b[0;34m\u001b[0m\u001b[0;34m\u001b[0m\u001b[0m\n\u001b[1;32m    618\u001b[0m             self.obj._data = self.obj._data.setitem(indexer=indexer,\n\u001b[0;32m--> 619\u001b[0;31m                                                     value=value)\n\u001b[0m\u001b[1;32m    620\u001b[0m             \u001b[0mself\u001b[0m\u001b[0;34m.\u001b[0m\u001b[0mobj\u001b[0m\u001b[0;34m.\u001b[0m\u001b[0m_maybe_update_cacher\u001b[0m\u001b[0;34m(\u001b[0m\u001b[0mclear\u001b[0m\u001b[0;34m=\u001b[0m\u001b[0;32mTrue\u001b[0m\u001b[0;34m)\u001b[0m\u001b[0;34m\u001b[0m\u001b[0;34m\u001b[0m\u001b[0m\n\u001b[1;32m    621\u001b[0m \u001b[0;34m\u001b[0m\u001b[0m\n",
      "\u001b[0;32m/anaconda3/lib/python3.6/site-packages/pandas/core/internals.py\u001b[0m in \u001b[0;36msetitem\u001b[0;34m(self, **kwargs)\u001b[0m\n\u001b[1;32m   3201\u001b[0m \u001b[0;34m\u001b[0m\u001b[0m\n\u001b[1;32m   3202\u001b[0m     \u001b[0;32mdef\u001b[0m \u001b[0msetitem\u001b[0m\u001b[0;34m(\u001b[0m\u001b[0mself\u001b[0m\u001b[0;34m,\u001b[0m \u001b[0;34m**\u001b[0m\u001b[0mkwargs\u001b[0m\u001b[0;34m)\u001b[0m\u001b[0;34m:\u001b[0m\u001b[0;34m\u001b[0m\u001b[0;34m\u001b[0m\u001b[0m\n\u001b[0;32m-> 3203\u001b[0;31m         \u001b[0;32mreturn\u001b[0m \u001b[0mself\u001b[0m\u001b[0;34m.\u001b[0m\u001b[0mapply\u001b[0m\u001b[0;34m(\u001b[0m\u001b[0;34m'setitem'\u001b[0m\u001b[0;34m,\u001b[0m \u001b[0;34m**\u001b[0m\u001b[0mkwargs\u001b[0m\u001b[0;34m)\u001b[0m\u001b[0;34m\u001b[0m\u001b[0;34m\u001b[0m\u001b[0m\n\u001b[0m\u001b[1;32m   3204\u001b[0m \u001b[0;34m\u001b[0m\u001b[0m\n\u001b[1;32m   3205\u001b[0m     \u001b[0;32mdef\u001b[0m \u001b[0mputmask\u001b[0m\u001b[0;34m(\u001b[0m\u001b[0mself\u001b[0m\u001b[0;34m,\u001b[0m \u001b[0;34m**\u001b[0m\u001b[0mkwargs\u001b[0m\u001b[0;34m)\u001b[0m\u001b[0;34m:\u001b[0m\u001b[0;34m\u001b[0m\u001b[0;34m\u001b[0m\u001b[0m\n",
      "\u001b[0;32m/anaconda3/lib/python3.6/site-packages/pandas/core/internals.py\u001b[0m in \u001b[0;36mapply\u001b[0;34m(self, f, axes, filter, do_integrity_check, consolidate, **kwargs)\u001b[0m\n\u001b[1;32m   3089\u001b[0m \u001b[0;34m\u001b[0m\u001b[0m\n\u001b[1;32m   3090\u001b[0m             \u001b[0mkwargs\u001b[0m\u001b[0;34m[\u001b[0m\u001b[0;34m'mgr'\u001b[0m\u001b[0;34m]\u001b[0m \u001b[0;34m=\u001b[0m \u001b[0mself\u001b[0m\u001b[0;34m\u001b[0m\u001b[0;34m\u001b[0m\u001b[0m\n\u001b[0;32m-> 3091\u001b[0;31m             \u001b[0mapplied\u001b[0m \u001b[0;34m=\u001b[0m \u001b[0mgetattr\u001b[0m\u001b[0;34m(\u001b[0m\u001b[0mb\u001b[0m\u001b[0;34m,\u001b[0m \u001b[0mf\u001b[0m\u001b[0;34m)\u001b[0m\u001b[0;34m(\u001b[0m\u001b[0;34m**\u001b[0m\u001b[0mkwargs\u001b[0m\u001b[0;34m)\u001b[0m\u001b[0;34m\u001b[0m\u001b[0;34m\u001b[0m\u001b[0m\n\u001b[0m\u001b[1;32m   3092\u001b[0m             \u001b[0mresult_blocks\u001b[0m \u001b[0;34m=\u001b[0m \u001b[0m_extend_blocks\u001b[0m\u001b[0;34m(\u001b[0m\u001b[0mapplied\u001b[0m\u001b[0;34m,\u001b[0m \u001b[0mresult_blocks\u001b[0m\u001b[0;34m)\u001b[0m\u001b[0;34m\u001b[0m\u001b[0;34m\u001b[0m\u001b[0m\n\u001b[1;32m   3093\u001b[0m \u001b[0;34m\u001b[0m\u001b[0m\n",
      "\u001b[0;32m/anaconda3/lib/python3.6/site-packages/pandas/core/internals.py\u001b[0m in \u001b[0;36msetitem\u001b[0;34m(self, indexer, value, mgr)\u001b[0m\n\u001b[1;32m    766\u001b[0m             \u001b[0;32melse\u001b[0m\u001b[0;34m:\u001b[0m\u001b[0;34m\u001b[0m\u001b[0;34m\u001b[0m\u001b[0m\n\u001b[1;32m    767\u001b[0m                 \u001b[0mdtype\u001b[0m \u001b[0;34m=\u001b[0m \u001b[0;34m'infer'\u001b[0m\u001b[0;34m\u001b[0m\u001b[0;34m\u001b[0m\u001b[0m\n\u001b[0;32m--> 768\u001b[0;31m             \u001b[0mvalues\u001b[0m \u001b[0;34m=\u001b[0m \u001b[0mself\u001b[0m\u001b[0;34m.\u001b[0m\u001b[0m_try_coerce_and_cast_result\u001b[0m\u001b[0;34m(\u001b[0m\u001b[0mvalues\u001b[0m\u001b[0;34m,\u001b[0m \u001b[0mdtype\u001b[0m\u001b[0;34m)\u001b[0m\u001b[0;34m\u001b[0m\u001b[0;34m\u001b[0m\u001b[0m\n\u001b[0m\u001b[1;32m    769\u001b[0m             \u001b[0mblock\u001b[0m \u001b[0;34m=\u001b[0m \u001b[0mself\u001b[0m\u001b[0;34m.\u001b[0m\u001b[0mmake_block\u001b[0m\u001b[0;34m(\u001b[0m\u001b[0mtransf\u001b[0m\u001b[0;34m(\u001b[0m\u001b[0mvalues\u001b[0m\u001b[0;34m)\u001b[0m\u001b[0;34m,\u001b[0m \u001b[0mfastpath\u001b[0m\u001b[0;34m=\u001b[0m\u001b[0;32mTrue\u001b[0m\u001b[0;34m)\u001b[0m\u001b[0;34m\u001b[0m\u001b[0;34m\u001b[0m\u001b[0m\n\u001b[1;32m    770\u001b[0m \u001b[0;34m\u001b[0m\u001b[0m\n",
      "\u001b[0;32m/anaconda3/lib/python3.6/site-packages/pandas/core/internals.py\u001b[0m in \u001b[0;36m_try_coerce_and_cast_result\u001b[0;34m(self, result, dtype)\u001b[0m\n\u001b[1;32m    598\u001b[0m \u001b[0;34m\u001b[0m\u001b[0m\n\u001b[1;32m    599\u001b[0m     \u001b[0;32mdef\u001b[0m \u001b[0m_try_coerce_and_cast_result\u001b[0m\u001b[0;34m(\u001b[0m\u001b[0mself\u001b[0m\u001b[0;34m,\u001b[0m \u001b[0mresult\u001b[0m\u001b[0;34m,\u001b[0m \u001b[0mdtype\u001b[0m\u001b[0;34m=\u001b[0m\u001b[0;32mNone\u001b[0m\u001b[0;34m)\u001b[0m\u001b[0;34m:\u001b[0m\u001b[0;34m\u001b[0m\u001b[0;34m\u001b[0m\u001b[0m\n\u001b[0;32m--> 600\u001b[0;31m         \u001b[0mresult\u001b[0m \u001b[0;34m=\u001b[0m \u001b[0mself\u001b[0m\u001b[0;34m.\u001b[0m\u001b[0m_try_coerce_result\u001b[0m\u001b[0;34m(\u001b[0m\u001b[0mresult\u001b[0m\u001b[0;34m)\u001b[0m\u001b[0;34m\u001b[0m\u001b[0;34m\u001b[0m\u001b[0m\n\u001b[0m\u001b[1;32m    601\u001b[0m         \u001b[0mresult\u001b[0m \u001b[0;34m=\u001b[0m \u001b[0mself\u001b[0m\u001b[0;34m.\u001b[0m\u001b[0m_try_cast_result\u001b[0m\u001b[0;34m(\u001b[0m\u001b[0mresult\u001b[0m\u001b[0;34m,\u001b[0m \u001b[0mdtype\u001b[0m\u001b[0;34m=\u001b[0m\u001b[0mdtype\u001b[0m\u001b[0;34m)\u001b[0m\u001b[0;34m\u001b[0m\u001b[0;34m\u001b[0m\u001b[0m\n\u001b[1;32m    602\u001b[0m         \u001b[0;32mreturn\u001b[0m \u001b[0mresult\u001b[0m\u001b[0;34m\u001b[0m\u001b[0;34m\u001b[0m\u001b[0m\n",
      "\u001b[0;31mKeyboardInterrupt\u001b[0m: "
     ]
    }
   ],
   "source": [
    "#we have to normalize test and validation data set by using the mean and sd from training data set\n",
    "\n",
    "# Even if we make our own, the values are similar but not exact. mine vs their mean and var\n",
    "# issue: i am copying the set, find better way to not copy huge set\n",
    "def getMean(column):\n",
    "    sum = 0\n",
    "    n = len(column)\n",
    "    for i in range(n):\n",
    "        sum += column.iloc[i]\n",
    "    mean = sum / float(n)\n",
    "    return mean\n",
    "\n",
    "def getVariance(column, mean):\n",
    "    squareMeanSum = 0\n",
    "    n = len(column)\n",
    "    for i in range(n):\n",
    "        squareMeanSum += (column.iloc[i] - mean)**2\n",
    "    var = math.sqrt(squareMeanSum / float(n))\n",
    "    return var\n",
    "\n",
    "# Normalize function from sklearn was buggy so we wrote our own\n",
    "# Given a data set, normalize it and return the normalized data set\n",
    "def normalizeSet(set):\n",
    "    numRow = len(set.index)\n",
    "    numCol = len(set.columns)\n",
    "#     normed_set = set\n",
    "    for col in range(numCol):\n",
    "        column = set.iloc[:,col]\n",
    "        mean = getMean(column)\n",
    "        var = getVariance(column, mean)        \n",
    "#         normalize each each value in a particular feature \n",
    "        for row in range(numRow):\n",
    "            set.iloc[row, col] = float(set.iloc[row, col] - mean) / var\n",
    "#             normed_set.iloc[row, col] = float(set.iloc[row, col] - mean) / var\n",
    "#             print(set.iloc[row, col])\n",
    "    return set\n",
    "normed_train = normalizeSet(train)\n",
    "normed_validate = normalizeSet(validate)\n",
    "normed_test = normalizeSet(test)"
   ]
  },
  {
   "cell_type": "code",
   "execution_count": 8,
   "metadata": {
    "collapsed": true
   },
   "outputs": [],
   "source": [
    "#https://stackoverflow.com/questions/40758562/can-anyone-explain-me-standardscaler\n",
    "#this method normalizes it according to the mean and sd from each set instead of \n",
    "#normalizaing from training set only# scaler = StandardScaler()\n",
    "\n",
    "# normed_train = scaler.fit_transform(train)\n",
    "# normed_validate = scaler.fit_transform(validate)\n",
    "# normed_test = scaler.fit_transform(test)\n",
    "\n"
   ]
  },
  {
   "cell_type": "code",
   "execution_count": 10,
   "metadata": {
    "collapsed": true
   },
   "outputs": [],
   "source": [
    "# build models with different number of activation layers and number of nodes to explore\n",
    "# which one has lowest testing error\n",
    "def build_model_A():\n",
    "  model = keras.Sequential([\n",
    "    layers.Dense(5, activation=tf.nn.relu, input_shape=[len(train.keys())]),\n",
    "    layers.Dense(1)\n",
    "  ])\n",
    "  optimizer = tf.keras.optimizers.RMSprop(0.001)\n",
    "  model.compile(loss='mean_squared_error',\n",
    "                optimizer=optimizer,\n",
    "                metrics=['mean_absolute_error', 'mean_squared_error'])\n",
    "  return model\n",
    "\n",
    "def build_model_B():\n",
    "  model = keras.Sequential([\n",
    "    layers.Dense(20, activation=tf.nn.relu, input_shape=[len(train.keys())]),\n",
    "    layers.Dense(1)\n",
    "  ])\n",
    "  optimizer = tf.keras.optimizers.RMSprop(0.001)\n",
    "  model.compile(loss='mean_squared_error',\n",
    "                optimizer=optimizer,\n",
    "                metrics=['mean_absolute_error', 'mean_squared_error'])\n",
    "  return model\n"
   ]
  },
  {
   "cell_type": "code",
   "execution_count": 11,
   "metadata": {},
   "outputs": [
    {
     "name": "stdout",
     "output_type": "stream",
     "text": [
      "WARNING:tensorflow:From /anaconda3/lib/python3.6/site-packages/tensorflow/python/ops/resource_variable_ops.py:435: colocate_with (from tensorflow.python.framework.ops) is deprecated and will be removed in a future version.\n",
      "Instructions for updating:\n",
      "Colocations handled automatically by placer.\n",
      "WARNING:tensorflow:From /anaconda3/lib/python3.6/site-packages/tensorflow/python/keras/utils/losses_utils.py:170: to_float (from tensorflow.python.ops.math_ops) is deprecated and will be removed in a future version.\n",
      "Instructions for updating:\n",
      "Use tf.cast instead.\n",
      "_________________________________________________________________\n",
      "Layer (type)                 Output Shape              Param #   \n",
      "=================================================================\n",
      "dense (Dense)                (None, 5)                 90        \n",
      "_________________________________________________________________\n",
      "dense_1 (Dense)              (None, 1)                 6         \n",
      "=================================================================\n",
      "Total params: 96\n",
      "Trainable params: 96\n",
      "Non-trainable params: 0\n",
      "_________________________________________________________________\n",
      "_________________________________________________________________\n",
      "Layer (type)                 Output Shape              Param #   \n",
      "=================================================================\n",
      "dense_2 (Dense)              (None, 20)                360       \n",
      "_________________________________________________________________\n",
      "dense_3 (Dense)              (None, 1)                 21        \n",
      "=================================================================\n",
      "Total params: 381\n",
      "Trainable params: 381\n",
      "Non-trainable params: 0\n",
      "_________________________________________________________________\n",
      "CPU times: user 260 ms, sys: 17.6 ms, total: 278 ms\n",
      "Wall time: 327 ms\n"
     ]
    }
   ],
   "source": [
    "%%time\n",
    "model_A = build_model_A()\n",
    "model_A.summary()\n",
    "model_B = build_model_B()\n",
    "model_B.summary()"
   ]
  },
  {
   "cell_type": "code",
   "execution_count": 12,
   "metadata": {},
   "outputs": [
    {
     "name": "stdout",
     "output_type": "stream",
     "text": [
      "WARNING:tensorflow:From /anaconda3/lib/python3.6/site-packages/tensorflow/python/ops/math_ops.py:3066: to_int32 (from tensorflow.python.ops.math_ops) is deprecated and will be removed in a future version.\n",
      "Instructions for updating:\n",
      "Use tf.cast instead.\n",
      "CPU times: user 34.4 s, sys: 9.84 s, total: 44.2 s\n",
      "Wall time: 21.3 s\n"
     ]
    }
   ],
   "source": [
    "%%time\n",
    "# Also buggy: \n",
    "\n",
    "#change batch size? try early stop - The patience parameter is the amount of epochs to check for improvement\n",
    "#early_stop = keras.callbacks.EarlyStopping(monitor='val_loss', patience=10)\n",
    "\n",
    "#history_object = model.fit(train, train_labels, epochs=100, verbose=2,\n",
    "#         validation_data=(validate, validate_labels), callbacks=[early_stop])\n",
    "\n",
    "history_object_A = model_A.fit(normed_train, train_labels, epochs=250, verbose=0,\n",
    "         validation_data=(normed_validate, validate_labels))"
   ]
  },
  {
   "cell_type": "code",
   "execution_count": 13,
   "metadata": {},
   "outputs": [
    {
     "name": "stdout",
     "output_type": "stream",
     "text": [
      "CPU times: user 1min 9s, sys: 20 s, total: 1min 29s\n",
      "Wall time: 42.9 s\n"
     ]
    }
   ],
   "source": [
    "%%time\n",
    "\n",
    "numEpochs = 500\n",
    "# See where the error jumps on a particular example (maybe jumps when on high way or city)\n",
    "history_object_B = model_B.fit(normed_train, train_labels, epochs=numEpochs, verbose=0,\n",
    "         validation_data=(normed_validate, validate_labels))"
   ]
  },
  {
   "cell_type": "code",
   "execution_count": 21,
   "metadata": {
    "collapsed": true
   },
   "outputs": [],
   "source": [
    "# For these plots, our error is super low. There might be bugs because of the way we normalize\n",
    "# TODO: Fix normalization\n",
    "\n",
    "def plot_history(history):\n",
    "  hist = pd.DataFrame(history.history)\n",
    "  hist['epoch'] = history.epoch\n",
    "  \n",
    "  plt.figure()\n",
    "  plt.xlabel('Epoch')\n",
    "  plt.ylabel('Mean Abs Error [MPG]')\n",
    "  plt.plot(hist['epoch'], hist['mean_absolute_error'],\n",
    "           label='Train Error')\n",
    "  plt.plot(hist['epoch'], hist['val_mean_absolute_error'],\n",
    "           label = 'Val Error')\n",
    "  plt.ylim([0,20])\n",
    "  plt.legend()\n",
    "  \n",
    "  plt.figure()\n",
    "  plt.xlabel('Epoch')\n",
    "  plt.ylabel('Mean Square Error [$MPG^2$]')\n",
    "  plt.plot(hist['epoch'], hist['mean_squared_error'],\n",
    "           label='Train Error')\n",
    "  plt.plot(hist['epoch'], hist['val_mean_squared_error'],\n",
    "           label = 'Val Error')\n",
    "  plt.xlim([0,500])\n",
    "  plt.ylim([0,50])\n",
    "  plt.legend()\n",
    "  plt.show()"
   ]
  },
  {
   "cell_type": "code",
   "execution_count": 22,
   "metadata": {},
   "outputs": [
    {
     "data": {
      "image/png": "[encoded data removed]",
      "text/plain": [
       "<matplotlib.figure.Figure at 0x1a2d6eacc0>"
      ]
     },
     "metadata": {
      "needs_background": "light"
     },
     "output_type": "display_data"
    },
    {
     "data": {
      "image/png": "[encoded data removed]",
      "text/plain": [
       "<matplotlib.figure.Figure at 0x1a2d8cc8d0>"
      ]
     },
     "metadata": {
      "needs_background": "light"
     },
     "output_type": "display_data"
    }
   ],
   "source": [
    "plot_history(history_object_A)"
   ]
  },
  {
   "cell_type": "code",
   "execution_count": 23,
   "metadata": {},
   "outputs": [
    {
     "data": {
      "image/png": "[encoded data removed]",
      "text/plain": [
       "<matplotlib.figure.Figure at 0x1a2d6db7b8>"
      ]
     },
     "metadata": {
      "needs_background": "light"
     },
     "output_type": "display_data"
    },
    {
     "data": {
      "image/png": "[encoded data removed]",
      "text/plain": [
       "<matplotlib.figure.Figure at 0x1a2db3a588>"
      ]
     },
     "metadata": {
      "needs_background": "light"
     },
     "output_type": "display_data"
    }
   ],
   "source": [
    "plot_history(history_object_B)"
   ]
  },
  {
   "cell_type": "code",
   "execution_count": 17,
   "metadata": {},
   "outputs": [
    {
     "name": "stdout",
     "output_type": "stream",
     "text": [
      "39.09465020576132 %\n"
     ]
    }
   ],
   "source": [
    "# Range of how wrong we allow a prediction to be, random number for now. unsure what is considered \"good\"\n",
    "def accuracy(errorVec, epsilon):\n",
    "    numExamples = len(errorVec)\n",
    "    numCorrect = 0\n",
    "    for error in errorVec:\n",
    "        if abs(error) <= epsilon:\n",
    "            numCorrect += 1\n",
    "    print((numCorrect / float(numExamples))*100,\"%\")\n",
    "\n",
    "epsilon = 1\n",
    "test_predictions_B = model_B.predict(normed_test).flatten()\n",
    "errorVec = test_predictions_B - test_labels\n",
    "accuracy(errorVec, epsilon)\n",
    "\n"
   ]
  },
  {
   "cell_type": "code",
   "execution_count": null,
   "metadata": {
    "collapsed": true
   },
   "outputs": [],
   "source": []
  },
  {
   "cell_type": "code",
   "execution_count": null,
   "metadata": {
    "collapsed": true
   },
   "outputs": [],
   "source": []
  }
 ],
 "metadata": {
  "kernelspec": {
   "display_name": "Python 3",
   "language": "python",
   "name": "python3"
  },
  "language_info": {
   "codemirror_mode": {
    "name": "ipython",
    "version": 3
   },
   "file_extension": ".py",
   "mimetype": "text/x-python",
   "name": "python",
   "nbconvert_exporter": "python",
   "pygments_lexer": "ipython3",
   "version": "3.6.8"
  }
 },
 "nbformat": 4,
 "nbformat_minor": 2
}
