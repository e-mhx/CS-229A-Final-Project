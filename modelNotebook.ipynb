{
 "cells": [
  {
   "cell_type": "code",
   "execution_count": 1,
   "metadata": {
    "collapsed": true
   },
   "outputs": [],
   "source": [
    "#!/usr/bin/env python3\n",
    "import numpy as np\n",
    "import math\n",
    "import tensorflow as tf\n",
    "from tensorflow import keras\n",
    "from tensorflow.keras import layers\n",
    "\n",
    "import IPython.display\n",
    "import matplotlib.pyplot as plt\n",
    "\n",
    "import seaborn as sns\n",
    "import pandas as pd\n",
    "from sklearn.model_selection import train_test_split\n",
    "from sklearn.preprocessing import StandardScaler"
   ]
  },
  {
   "cell_type": "code",
   "execution_count": 2,
   "metadata": {
    "collapsed": true
   },
   "outputs": [],
   "source": [
    "#note about my change: \n",
    "#see the distribution of each of train, val, and test set values\n",
    "#same so we already guarantee that - we can get more points for our gradescope if we want\n",
    "#test accuracy is great!\n",
    "\n",
    "#Pipeline:\n",
    "#1Another thing to predict: rate of change of MPG, maybe how much we are accelerating\n",
    "    #When velocity decreases, how fast are we decreasing by? (acceleration)\n",
    "\n",
    "    #Bryon - 06-03\n",
    "    #good idea to create a new parameter on rate of change of speed\n",
    "    #rate of change of MPG as output - not sure\n",
    "    #acc. = change of speed / change of time\n",
    "\n",
    "    #Erick\n",
    "    #Are we computing acceleration of samples one time step from each other (one row from each other)?\n",
    "    #if we take the difference in velocity between two rows, the last row will not have a accel parameter\n",
    "    #rate of change of MPG: instant fuel economy or total? difference between the two?\n",
    "\n",
    "#have to try other models if accuracy is low - svm, etc.\n",
    "\n",
    "#2 confusion matrix \n",
    "\n",
    "#3 increase training set --> [80,10,10]\n",
    "\n",
    "#4 low number of nodes and low amount of number of hidden layers\n",
    "    #A - 1 hidden layer with 5 nodes"
   ]
  },
  {
   "cell_type": "code",
   "execution_count": 3,
   "metadata": {
    "collapsed": true
   },
   "outputs": [],
   "source": [
    "#NEW: write comments?\n",
    "#OLD: aggregate the data points for five files into aggregate.csv. i have removed the time predictor from the data set\n",
    "\n",
    "# cleaned, correct dataset - elaborate on \"clean\" pls\n",
    "files = \"./data/merged.csv\"\n",
    "\n",
    "raw_dataset = pd.read_csv(files, sep=\",\", skipinitialspace=True)\n",
    "dataset = raw_dataset.copy()\n",
    "\n",
    "#remove whitespace in front of column name\n",
    "dataset.columns = dataset.columns.str.lstrip()"
   ]
  },
  {
   "cell_type": "code",
   "execution_count": 4,
   "metadata": {},
   "outputs": [
    {
     "data": {
      "text/html": [
       "<div>\n",
       "<style>\n",
       "    .dataframe thead tr:only-child th {\n",
       "        text-align: right;\n",
       "    }\n",
       "\n",
       "    .dataframe thead th {\n",
       "        text-align: left;\n",
       "    }\n",
       "\n",
       "    .dataframe tbody tr th {\n",
       "        vertical-align: top;\n",
       "    }\n",
       "</style>\n",
       "<table border=\"1\" class=\"dataframe\">\n",
       "  <thead>\n",
       "    <tr style=\"text-align: right;\">\n",
       "      <th></th>\n",
       "      <th>Absolute load value (%)</th>\n",
       "      <th>Absolute throttle position (%)</th>\n",
       "      <th>Ambient air temperature (F)</th>\n",
       "      <th>Barometric pressure (inHg)</th>\n",
       "      <th>Calculated load value (%)</th>\n",
       "      <th>Commanded fuel rail pressure A (inHg)</th>\n",
       "      <th>Engine coolant temperature (F)</th>\n",
       "      <th>Engine RPM (RPM)</th>\n",
       "      <th>Fuel level input (%)</th>\n",
       "      <th>Fuel rail pressure (psi)</th>\n",
       "      <th>Fuel/Air commanded equivalence ratio</th>\n",
       "      <th>Intake air temperature (F)</th>\n",
       "      <th>Intake manifold absolute pressure (inHg)</th>\n",
       "      <th>Long term fuel % trim - Bank 1 (%)</th>\n",
       "      <th>Mass air flow rate (lb/min)</th>\n",
       "      <th>Vehicle speed (MPH)</th>\n",
       "      <th>Fuel rate (gal/hr)</th>\n",
       "      <th>Instant fuel economy (MPG)</th>\n",
       "    </tr>\n",
       "  </thead>\n",
       "  <tbody>\n",
       "    <tr>\n",
       "      <th>4855</th>\n",
       "      <td>19.60784</td>\n",
       "      <td>11.76471</td>\n",
       "      <td>59.0</td>\n",
       "      <td>29.8254</td>\n",
       "      <td>33.72549</td>\n",
       "      <td>924.2921</td>\n",
       "      <td>185.0</td>\n",
       "      <td>560.25</td>\n",
       "      <td>74.5098</td>\n",
       "      <td>443.8155</td>\n",
       "      <td>0.994239</td>\n",
       "      <td>86.0</td>\n",
       "      <td>12.40264</td>\n",
       "      <td>-1.5625</td>\n",
       "      <td>0.129654</td>\n",
       "      <td>0.0</td>\n",
       "      <td>0.095216</td>\n",
       "      <td>0.0</td>\n",
       "    </tr>\n",
       "    <tr>\n",
       "      <th>4856</th>\n",
       "      <td>19.60784</td>\n",
       "      <td>11.37255</td>\n",
       "      <td>59.0</td>\n",
       "      <td>29.8254</td>\n",
       "      <td>33.72549</td>\n",
       "      <td>918.3861</td>\n",
       "      <td>185.0</td>\n",
       "      <td>560.00</td>\n",
       "      <td>74.5098</td>\n",
       "      <td>443.8155</td>\n",
       "      <td>0.994239</td>\n",
       "      <td>86.0</td>\n",
       "      <td>12.40264</td>\n",
       "      <td>-1.5625</td>\n",
       "      <td>0.244755</td>\n",
       "      <td>0.0</td>\n",
       "      <td>0.163490</td>\n",
       "      <td>0.0</td>\n",
       "    </tr>\n",
       "    <tr>\n",
       "      <th>4857</th>\n",
       "      <td>19.60784</td>\n",
       "      <td>11.37255</td>\n",
       "      <td>59.0</td>\n",
       "      <td>29.8254</td>\n",
       "      <td>33.33333</td>\n",
       "      <td>903.6210</td>\n",
       "      <td>185.0</td>\n",
       "      <td>611.00</td>\n",
       "      <td>74.5098</td>\n",
       "      <td>439.4644</td>\n",
       "      <td>0.994239</td>\n",
       "      <td>86.0</td>\n",
       "      <td>11.81204</td>\n",
       "      <td>-1.5625</td>\n",
       "      <td>0.264600</td>\n",
       "      <td>0.0</td>\n",
       "      <td>0.176746</td>\n",
       "      <td>0.0</td>\n",
       "    </tr>\n",
       "    <tr>\n",
       "      <th>4858</th>\n",
       "      <td>18.43137</td>\n",
       "      <td>12.94118</td>\n",
       "      <td>59.0</td>\n",
       "      <td>29.8254</td>\n",
       "      <td>40.78431</td>\n",
       "      <td>1328.8540</td>\n",
       "      <td>185.0</td>\n",
       "      <td>686.50</td>\n",
       "      <td>74.5098</td>\n",
       "      <td>617.8608</td>\n",
       "      <td>0.994239</td>\n",
       "      <td>86.0</td>\n",
       "      <td>13.58385</td>\n",
       "      <td>-1.5625</td>\n",
       "      <td>0.269892</td>\n",
       "      <td>0.0</td>\n",
       "      <td>0.180281</td>\n",
       "      <td>0.0</td>\n",
       "    </tr>\n",
       "    <tr>\n",
       "      <th>4859</th>\n",
       "      <td>24.31373</td>\n",
       "      <td>12.54902</td>\n",
       "      <td>59.0</td>\n",
       "      <td>29.8254</td>\n",
       "      <td>40.00000</td>\n",
       "      <td>1154.6270</td>\n",
       "      <td>185.0</td>\n",
       "      <td>712.25</td>\n",
       "      <td>74.5098</td>\n",
       "      <td>558.3953</td>\n",
       "      <td>0.994239</td>\n",
       "      <td>86.0</td>\n",
       "      <td>14.17445</td>\n",
       "      <td>-1.5625</td>\n",
       "      <td>0.367794</td>\n",
       "      <td>0.0</td>\n",
       "      <td>0.245677</td>\n",
       "      <td>0.0</td>\n",
       "    </tr>\n",
       "  </tbody>\n",
       "</table>\n",
       "</div>"
      ],
      "text/plain": [
       "      Absolute load value (%)  Absolute throttle position (%)  \\\n",
       "4855                 19.60784                        11.76471   \n",
       "4856                 19.60784                        11.37255   \n",
       "4857                 19.60784                        11.37255   \n",
       "4858                 18.43137                        12.94118   \n",
       "4859                 24.31373                        12.54902   \n",
       "\n",
       "      Ambient air temperature (F)  Barometric pressure (inHg)  \\\n",
       "4855                         59.0                     29.8254   \n",
       "4856                         59.0                     29.8254   \n",
       "4857                         59.0                     29.8254   \n",
       "4858                         59.0                     29.8254   \n",
       "4859                         59.0                     29.8254   \n",
       "\n",
       "      Calculated load value (%)  Commanded fuel rail pressure A (inHg)  \\\n",
       "4855                   33.72549                               924.2921   \n",
       "4856                   33.72549                               918.3861   \n",
       "4857                   33.33333                               903.6210   \n",
       "4858                   40.78431                              1328.8540   \n",
       "4859                   40.00000                              1154.6270   \n",
       "\n",
       "      Engine coolant temperature (F)  Engine RPM (RPM)  Fuel level input (%)  \\\n",
       "4855                           185.0            560.25               74.5098   \n",
       "4856                           185.0            560.00               74.5098   \n",
       "4857                           185.0            611.00               74.5098   \n",
       "4858                           185.0            686.50               74.5098   \n",
       "4859                           185.0            712.25               74.5098   \n",
       "\n",
       "      Fuel rail pressure (psi)  Fuel/Air commanded equivalence ratio  \\\n",
       "4855                  443.8155                              0.994239   \n",
       "4856                  443.8155                              0.994239   \n",
       "4857                  439.4644                              0.994239   \n",
       "4858                  617.8608                              0.994239   \n",
       "4859                  558.3953                              0.994239   \n",
       "\n",
       "      Intake air temperature (F)  Intake manifold absolute pressure (inHg)  \\\n",
       "4855                        86.0                                  12.40264   \n",
       "4856                        86.0                                  12.40264   \n",
       "4857                        86.0                                  11.81204   \n",
       "4858                        86.0                                  13.58385   \n",
       "4859                        86.0                                  14.17445   \n",
       "\n",
       "      Long term fuel % trim - Bank 1 (%)  Mass air flow rate (lb/min)  \\\n",
       "4855                             -1.5625                     0.129654   \n",
       "4856                             -1.5625                     0.244755   \n",
       "4857                             -1.5625                     0.264600   \n",
       "4858                             -1.5625                     0.269892   \n",
       "4859                             -1.5625                     0.367794   \n",
       "\n",
       "      Vehicle speed (MPH)  Fuel rate (gal/hr)  Instant fuel economy (MPG)  \n",
       "4855                  0.0            0.095216                         0.0  \n",
       "4856                  0.0            0.163490                         0.0  \n",
       "4857                  0.0            0.176746                         0.0  \n",
       "4858                  0.0            0.180281                         0.0  \n",
       "4859                  0.0            0.245677                         0.0  "
      ]
     },
     "execution_count": 4,
     "metadata": {},
     "output_type": "execute_result"
    }
   ],
   "source": [
    "#To-do: consider experimenting what happens when you remove it.\n",
    "#if the maxNum = 45, there are ___1788___ obs whose MPG > 45\n",
    "\n",
    "#a function that rounds down any value above 45 to 45.\n",
    "#39 is the avg highway IFE. we then choose the number 45.\n",
    "#see our doc/write up for more info?\n",
    "def set_max_instant_fuel_eco(dataset, max_Num):\n",
    "#    count = 0\n",
    "    copy = dataset.copy()\n",
    "    for i in range(len(dataset.index)):\n",
    "        if dataset.iloc[i, len(dataset.columns) - 1] > max_Num:\n",
    "#            count += 1\n",
    "            copy.iloc[i, len(dataset.columns) - 1] = max_Num\n",
    "#    print(count)\n",
    "    return copy\n",
    "max_Num = 45\n",
    "maxed_dataset = set_max_instant_fuel_eco(dataset, max_Num)\n",
    "maxed_dataset.tail() #check what the data table looks like"
   ]
  },
  {
   "cell_type": "code",
   "execution_count": 5,
   "metadata": {},
   "outputs": [],
   "source": [
    "#sns.distplot(maxed_dataset['Vehicle speed (MPH)']);"
   ]
  },
  {
   "cell_type": "code",
   "execution_count": 6,
   "metadata": {},
   "outputs": [
    {
     "data": {
      "image/png": "[encoded data removed]",
      "text/plain": [
       "<matplotlib.figure.Figure at 0x1a278a8240>"
      ]
     },
     "metadata": {
      "needs_background": "light"
     },
     "output_type": "display_data"
    },
    {
     "data": {
      "text/plain": [
       "<matplotlib.figure.Figure at 0x105452358>"
      ]
     },
     "metadata": {},
     "output_type": "display_data"
    }
   ],
   "source": [
    "set35 = np.full(4859, 35)\n",
    "set35\n",
    "plt.plot(maxed_dataset['Vehicle speed (MPH)'], color='g')\n",
    "plt.plot(set35, color='orange')\n",
    "plt.xlabel('Observation Number #')\n",
    "plt.ylabel('Vehicle Speed (MPH)')\n",
    "plt.title('Plot of Vehicle Speed')\n",
    "plt.figure(figsize=(36, 32))\n",
    "plt.show()"
   ]
  },
  {
   "cell_type": "code",
   "execution_count": 7,
   "metadata": {
    "collapsed": true
   },
   "outputs": [],
   "source": [
    "#dataset.iloc[:, len(dataset.columns) - 3] #yes - way to access speed\n",
    "\n",
    "#a function that counts how many data points are that whose speed is more than 35 \n",
    "#(meaning that the car is in the highway)\n",
    "\n",
    "#def find_highway_speed(dataset, max_num):\n",
    "#    count = 0\n",
    "#    copy = dataset.copy()\n",
    "#    array_speed = []\n",
    "#    for i in range(len(dataset.index)):\n",
    "#        if dataset.iloc[i, len(dataset.columns) - 3] > max_num:\n",
    "#            count += 1\n",
    "#            array_speed.append(i)\n",
    "#    print(count)\n",
    "#    return array_speed\n",
    "\n",
    "#list_highway_speed = find_highway_speed(maxed_dataset, 35)\n",
    "\n",
    "#for i in range(1,len(list_highway_speed))):\n",
    "#    print(list_highway_speed[i])\n",
    "\n",
    "#for i in range(1,len(list_highway_speed))):\n",
    "#    highway_speed_dataset = maxed_dataset[list_highway_speed[i]]\n"
   ]
  },
  {
   "cell_type": "code",
   "execution_count": null,
   "metadata": {
    "collapsed": true
   },
   "outputs": [],
   "source": []
  },
  {
   "cell_type": "code",
   "execution_count": 8,
   "metadata": {
    "scrolled": true
   },
   "outputs": [
    {
     "name": "stdout",
     "output_type": "stream",
     "text": [
      "CPU times: user 22.1 ms, sys: 9.2 ms, total: 31.3 ms\n",
      "Wall time: 7.7 ms\n"
     ]
    }
   ],
   "source": [
    "%%time \n",
    "#set seed here!\n",
    "\n",
    "# Bugs to fix: split evenly driving on the high way vs city (look at speed for this)\n",
    "# Split evenly the data amongst the datasets\n",
    "\n",
    "#creating data and splitting and random shuffling\n",
    "#https://stackoverflow.com/questions/38250710/how-to-split-data-into-3-sets-train-validation-and-test/38251213#38251213\n",
    "def train_validate_test_split(df, train_percent=.6, validate_percent=.2, seed=None):\n",
    "    np.random.seed(seed)\n",
    "    perm = np.random.permutation(df.index)\n",
    "    m = len(df.index)\n",
    "    train_end = int(train_percent * m)\n",
    "    validate_end = int(validate_percent * m) + train_end\n",
    "    train = df.loc[perm[:train_end]]\n",
    "    validate = df.loc[perm[train_end:validate_end]]\n",
    "    test = df.loc[perm[validate_end:]]\n",
    "    return train, validate, test\n",
    "\n",
    "np.random.seed(88)\n",
    "train, validate, test = train_validate_test_split(maxed_dataset)\n",
    "\n",
    "train_labels = train.pop(\"Instant fuel economy (MPG)\")\n",
    "validate_labels = validate.pop(\"Instant fuel economy (MPG)\")\n",
    "test_labels = test.pop(\"Instant fuel economy (MPG)\")"
   ]
  },
  {
   "cell_type": "code",
   "execution_count": 9,
   "metadata": {},
   "outputs": [
    {
     "name": "stderr",
     "output_type": "stream",
     "text": [
      "/anaconda3/lib/python3.6/site-packages/scipy/stats/stats.py:1633: FutureWarning: Using a non-tuple sequence for multidimensional indexing is deprecated; use `arr[tuple(seq)]` instead of `arr[seq]`. In the future this will be interpreted as an array index, `arr[np.array(seq)]`, which will result either in an error or a different result.\n",
      "  return np.add.reduce(sorted[indexer] * weights, axis=axis) / sumval\n"
     ]
    },
    {
     "data": {
      "text/plain": [
       "<matplotlib.axes._subplots.AxesSubplot at 0x10540b860>"
      ]
     },
     "execution_count": 9,
     "metadata": {},
     "output_type": "execute_result"
    },
    {
     "data": {
      "image/png": "[encoded data removed]",
      "text/plain": [
       "<matplotlib.figure.Figure at 0x10540b128>"
      ]
     },
     "metadata": {
      "needs_background": "light"
     },
     "output_type": "display_data"
    }
   ],
   "source": [
    "sns.distplot(train_labels)"
   ]
  },
  {
   "cell_type": "code",
   "execution_count": 10,
   "metadata": {},
   "outputs": [
    {
     "data": {
      "text/plain": [
       "<matplotlib.axes._subplots.AxesSubplot at 0x1a278a8780>"
      ]
     },
     "execution_count": 10,
     "metadata": {},
     "output_type": "execute_result"
    },
    {
     "data": {
      "image/png": "[encoded data removed]",
      "text/plain": [
       "<matplotlib.figure.Figure at 0x1a27afa1d0>"
      ]
     },
     "metadata": {
      "needs_background": "light"
     },
     "output_type": "display_data"
    }
   ],
   "source": [
    "sns.distplot(validate_labels)"
   ]
  },
  {
   "cell_type": "code",
   "execution_count": 11,
   "metadata": {},
   "outputs": [
    {
     "data": {
      "text/plain": [
       "<matplotlib.axes._subplots.AxesSubplot at 0x1054700f0>"
      ]
     },
     "execution_count": 11,
     "metadata": {},
     "output_type": "execute_result"
    },
    {
     "data": {
      "image/png": "[encoded data removed]",
      "text/plain": [
       "<matplotlib.figure.Figure at 0x1a27b19470>"
      ]
     },
     "metadata": {
      "needs_background": "light"
     },
     "output_type": "display_data"
    }
   ],
   "source": [
    "sns.distplot(test_labels)"
   ]
  },
  {
   "cell_type": "code",
   "execution_count": 12,
   "metadata": {
    "collapsed": true
   },
   "outputs": [],
   "source": [
    "#train.dtypes"
   ]
  },
  {
   "cell_type": "code",
   "execution_count": 13,
   "metadata": {},
   "outputs": [
    {
     "data": {
      "text/plain": [
       "count    2916.000000\n",
       "mean       26.445353\n",
       "std        22.068445\n",
       "min         0.000000\n",
       "25%         6.213712\n",
       "50%        24.233480\n",
       "75%        39.146390\n",
       "max        75.807290\n",
       "Name: Vehicle speed (MPH), dtype: float64"
      ]
     },
     "execution_count": 13,
     "metadata": {},
     "output_type": "execute_result"
    }
   ],
   "source": [
    "train = train.apply(lambda col:pd.to_numeric(col, errors='coerce'))\n",
    "\n",
    "# train_stats is a pandas data frame type\n",
    "train_stats = train.describe(include = 'all')\n",
    "train_stats\n",
    "\n",
    "train_stats['Vehicle speed (MPH)']"
   ]
  },
  {
   "cell_type": "code",
   "execution_count": 14,
   "metadata": {},
   "outputs": [
    {
     "data": {
      "text/plain": [
       "26.445353375514326"
      ]
     },
     "execution_count": 14,
     "metadata": {},
     "output_type": "execute_result"
    }
   ],
   "source": [
    "train_stats['Vehicle speed (MPH)'][1] #mean"
   ]
  },
  {
   "cell_type": "code",
   "execution_count": 15,
   "metadata": {},
   "outputs": [
    {
     "name": "stdout",
     "output_type": "stream",
     "text": [
      "CPU times: user 15.2 s, sys: 11.1 ms, total: 15.2 s\n",
      "Wall time: 15.2 s\n"
     ]
    }
   ],
   "source": [
    "%%time \n",
    "\n",
    "#we have to normalize test and validation data set by using the mean and sd from training data set\n",
    "\n",
    "# Even if we make our own, the values are similar but not exact. mine vs their mean and var\n",
    "# issue: i am copying the set, find better way to not copy huge set\n",
    "def getMean(column):\n",
    "    sum = 0\n",
    "    n = len(column)\n",
    "    for i in range(n):\n",
    "        sum += column.iloc[i]\n",
    "    mean = sum / float(n)\n",
    "    return mean\n",
    "\n",
    "def getVariance(column, mean):\n",
    "    squareMeanSum = 0\n",
    "    n = len(column)\n",
    "    for i in range(n):\n",
    "        squareMeanSum += (column.iloc[i] - mean)**2\n",
    "    var = math.sqrt(squareMeanSum / float(n))\n",
    "    return var\n",
    "\n",
    "# Normalize function from sklearn was buggy so we wrote our own\n",
    "# Given a data set, normalize it and return the normalized data set\n",
    "def normalizeSet(set):\n",
    "    numRow = len(set.index)\n",
    "    numCol = len(set.columns)\n",
    "#     normed_set = set\n",
    "    for col in range(numCol):\n",
    "        column = set.iloc[:,col]\n",
    "        mean = getMean(column)\n",
    "        var = getVariance(column, mean)        \n",
    "#         normalize each each value in a particular feature \n",
    "        for row in range(numRow):\n",
    "            set.iloc[row, col] = float(set.iloc[row, col] - mean) / var\n",
    "#             normed_set.iloc[row, col] = float(set.iloc[row, col] - mean) / var\n",
    "#             print(set.iloc[row, col])\n",
    "    return set\n",
    "normed_train = normalizeSet(train)\n",
    "normed_validate = normalizeSet(validate)\n",
    "normed_test = normalizeSet(test)"
   ]
  },
  {
   "cell_type": "code",
   "execution_count": 16,
   "metadata": {
    "collapsed": true
   },
   "outputs": [],
   "source": [
    "#https://stackoverflow.com/questions/40758562/can-anyone-explain-me-standardscaler\n",
    "#this method normalizes it according to the mean and sd from each set instead of \n",
    "#normalizaing from training set only# scaler = StandardScaler()\n",
    "\n",
    "# normed_train = scaler.fit_transform(train)\n",
    "# normed_validate = scaler.fit_transform(validate)\n",
    "# normed_test = scaler.fit_transform(test)\n",
    "\n"
   ]
  },
  {
   "cell_type": "code",
   "execution_count": 35,
   "metadata": {
    "collapsed": true
   },
   "outputs": [],
   "source": [
    "# build models with different number of activation layers and number of nodes to explore\n",
    "# which one has lowest testing error\n",
    "def build_model_A():\n",
    "  model = keras.Sequential([\n",
    "    layers.Dense(5, activation=tf.nn.relu, input_shape=[len(train.keys())]),\n",
    "    layers.Dense(1)\n",
    "  ])\n",
    "  optimizer = tf.keras.optimizers.RMSprop(0.001)\n",
    "  model.compile(loss='mean_squared_error',\n",
    "                optimizer=optimizer,\n",
    "                metrics=['mean_absolute_error', 'mean_squared_error'])\n",
    "  return model\n",
    "\n",
    "\n",
    "def build_model_B():\n",
    "  model = keras.Sequential([\n",
    "    layers.Dense(15, activation=tf.nn.relu, input_shape=[len(train.keys())]),\n",
    "    layers.Dense(10, activation=tf.nn.relu),\n",
    "    layers.Dense(1)\n",
    "  ])\n",
    "  optimizer = tf.keras.optimizers.RMSprop(0.001)\n",
    "  model.compile(loss='mean_squared_error',\n",
    "                optimizer=optimizer,\n",
    "                metrics=['mean_absolute_error', 'mean_squared_error'])\n",
    "  return model\n",
    "\n",
    "# example of comments from my 230\n",
    "# 250/200/200 got us 72%/57% on noisy data with 2.5 hours per speaker\n",
    "# 350/200/200/100 got us 73%/63% on noisy data with 5 hours per speaker\n",
    "# So making the network bigger didn't really help much.\n",
    "def build_model_C():\n",
    "  model = keras.Sequential([\n",
    "    layers.Dense(15, activation=tf.nn.relu, input_shape=[len(train.keys())]),\n",
    "    layers.Dense(10, activation=tf.nn.relu),\n",
    "    layers.Dense(5, activation=tf.nn.relu),\n",
    "    layers.Dense(1)\n",
    "  ])\n",
    "  optimizer = tf.keras.optimizers.RMSprop(0.001)\n",
    "  model.compile(loss='mean_squared_error',\n",
    "                optimizer=optimizer,\n",
    "                metrics=['mean_absolute_error', 'mean_squared_error'])\n",
    "  return model\n",
    "\n"
   ]
  },
  {
   "cell_type": "code",
   "execution_count": 36,
   "metadata": {},
   "outputs": [
    {
     "name": "stdout",
     "output_type": "stream",
     "text": [
      "_________________________________________________________________\n",
      "Layer (type)                 Output Shape              Param #   \n",
      "=================================================================\n",
      "dense_24 (Dense)             (None, 5)                 90        \n",
      "_________________________________________________________________\n",
      "dense_25 (Dense)             (None, 1)                 6         \n",
      "=================================================================\n",
      "Total params: 96\n",
      "Trainable params: 96\n",
      "Non-trainable params: 0\n",
      "_________________________________________________________________\n",
      "_________________________________________________________________\n",
      "Layer (type)                 Output Shape              Param #   \n",
      "=================================================================\n",
      "dense_26 (Dense)             (None, 15)                270       \n",
      "_________________________________________________________________\n",
      "dense_27 (Dense)             (None, 10)                160       \n",
      "_________________________________________________________________\n",
      "dense_28 (Dense)             (None, 1)                 11        \n",
      "=================================================================\n",
      "Total params: 441\n",
      "Trainable params: 441\n",
      "Non-trainable params: 0\n",
      "_________________________________________________________________\n",
      "_________________________________________________________________\n",
      "Layer (type)                 Output Shape              Param #   \n",
      "=================================================================\n",
      "dense_29 (Dense)             (None, 15)                270       \n",
      "_________________________________________________________________\n",
      "dense_30 (Dense)             (None, 10)                160       \n",
      "_________________________________________________________________\n",
      "dense_31 (Dense)             (None, 5)                 55        \n",
      "_________________________________________________________________\n",
      "dense_32 (Dense)             (None, 1)                 6         \n",
      "=================================================================\n",
      "Total params: 491\n",
      "Trainable params: 491\n",
      "Non-trainable params: 0\n",
      "_________________________________________________________________\n",
      "CPU times: user 403 ms, sys: 15.2 ms, total: 418 ms\n",
      "Wall time: 410 ms\n"
     ]
    }
   ],
   "source": [
    "%%time\n",
    "model_A = build_model_A()\n",
    "model_A.summary()\n",
    "model_B = build_model_B()\n",
    "model_B.summary()\n",
    "model_C = build_model_C()\n",
    "model_C.summary()"
   ]
  },
  {
   "cell_type": "code",
   "execution_count": 19,
   "metadata": {},
   "outputs": [
    {
     "name": "stdout",
     "output_type": "stream",
     "text": [
      "WARNING:tensorflow:From /anaconda3/lib/python3.6/site-packages/tensorflow/python/ops/math_ops.py:3066: to_int32 (from tensorflow.python.ops.math_ops) is deprecated and will be removed in a future version.\n",
      "Instructions for updating:\n",
      "Use tf.cast instead.\n",
      "CPU times: user 33.9 s, sys: 9.62 s, total: 43.5 s\n",
      "Wall time: 21 s\n"
     ]
    }
   ],
   "source": [
    "%%time\n",
    "# Also buggy: \n",
    "\n",
    "#change batch size? try early stop - The patience parameter is the amount of epochs to check for improvement\n",
    "#early_stop = keras.callbacks.EarlyStopping(monitor='val_loss', patience=10)\n",
    "\n",
    "#history_object = model.fit(train, train_labels, epochs=100, verbose=2,\n",
    "#         validation_data=(validate, validate_labels), callbacks=[early_stop])\n",
    "\n",
    "history_object_A = model_A.fit(normed_train, train_labels, epochs=250, verbose=0,\n",
    "         validation_data=(normed_validate, validate_labels))"
   ]
  },
  {
   "cell_type": "code",
   "execution_count": 20,
   "metadata": {},
   "outputs": [
    {
     "name": "stdout",
     "output_type": "stream",
     "text": [
      "CPU times: user 44.9 s, sys: 14.8 s, total: 59.7 s\n",
      "Wall time: 26.4 s\n"
     ]
    }
   ],
   "source": [
    "%%time\n",
    "# See where the error jumps on a particular example (maybe jumps when on high way or city)\n",
    "history_object_B = model_B.fit(normed_train, train_labels, epochs=250, verbose=0,\n",
    "         validation_data=(normed_validate, validate_labels))"
   ]
  },
  {
   "cell_type": "code",
   "execution_count": 37,
   "metadata": {},
   "outputs": [
    {
     "name": "stdout",
     "output_type": "stream",
     "text": [
      "CPU times: user 45.4 s, sys: 14.2 s, total: 59.6 s\n",
      "Wall time: 27.5 s\n"
     ]
    }
   ],
   "source": [
    "%%time\n",
    "# See where the error jumps on a particular example (maybe jumps when on high way or city)\n",
    "history_object_C = model_C.fit(normed_train, train_labels, epochs=250, verbose=0,\n",
    "         validation_data=(normed_validate, validate_labels))"
   ]
  },
  {
   "cell_type": "code",
   "execution_count": 21,
   "metadata": {},
   "outputs": [
    {
     "data": {
      "text/html": [
       "<div>\n",
       "<style>\n",
       "    .dataframe thead tr:only-child th {\n",
       "        text-align: right;\n",
       "    }\n",
       "\n",
       "    .dataframe thead th {\n",
       "        text-align: left;\n",
       "    }\n",
       "\n",
       "    .dataframe tbody tr th {\n",
       "        vertical-align: top;\n",
       "    }\n",
       "</style>\n",
       "<table border=\"1\" class=\"dataframe\">\n",
       "  <thead>\n",
       "    <tr style=\"text-align: right;\">\n",
       "      <th></th>\n",
       "      <th>loss</th>\n",
       "      <th>mean_absolute_error</th>\n",
       "      <th>mean_squared_error</th>\n",
       "      <th>val_loss</th>\n",
       "      <th>val_mean_absolute_error</th>\n",
       "      <th>val_mean_squared_error</th>\n",
       "      <th>epoch</th>\n",
       "    </tr>\n",
       "  </thead>\n",
       "  <tbody>\n",
       "    <tr>\n",
       "      <th>245</th>\n",
       "      <td>12.234721</td>\n",
       "      <td>2.486285</td>\n",
       "      <td>12.234718</td>\n",
       "      <td>11.877080</td>\n",
       "      <td>2.468826</td>\n",
       "      <td>11.877081</td>\n",
       "      <td>245</td>\n",
       "    </tr>\n",
       "    <tr>\n",
       "      <th>246</th>\n",
       "      <td>12.195864</td>\n",
       "      <td>2.480271</td>\n",
       "      <td>12.195863</td>\n",
       "      <td>11.913593</td>\n",
       "      <td>2.488812</td>\n",
       "      <td>11.913591</td>\n",
       "      <td>246</td>\n",
       "    </tr>\n",
       "    <tr>\n",
       "      <th>247</th>\n",
       "      <td>12.186328</td>\n",
       "      <td>2.476043</td>\n",
       "      <td>12.186327</td>\n",
       "      <td>11.849239</td>\n",
       "      <td>2.460078</td>\n",
       "      <td>11.849238</td>\n",
       "      <td>247</td>\n",
       "    </tr>\n",
       "    <tr>\n",
       "      <th>248</th>\n",
       "      <td>12.154282</td>\n",
       "      <td>2.469707</td>\n",
       "      <td>12.154281</td>\n",
       "      <td>11.696173</td>\n",
       "      <td>2.446876</td>\n",
       "      <td>11.696174</td>\n",
       "      <td>248</td>\n",
       "    </tr>\n",
       "    <tr>\n",
       "      <th>249</th>\n",
       "      <td>12.126996</td>\n",
       "      <td>2.463784</td>\n",
       "      <td>12.126997</td>\n",
       "      <td>11.705816</td>\n",
       "      <td>2.445721</td>\n",
       "      <td>11.705815</td>\n",
       "      <td>249</td>\n",
       "    </tr>\n",
       "  </tbody>\n",
       "</table>\n",
       "</div>"
      ],
      "text/plain": [
       "          loss  mean_absolute_error  mean_squared_error   val_loss  \\\n",
       "245  12.234721             2.486285           12.234718  11.877080   \n",
       "246  12.195864             2.480271           12.195863  11.913593   \n",
       "247  12.186328             2.476043           12.186327  11.849239   \n",
       "248  12.154282             2.469707           12.154281  11.696173   \n",
       "249  12.126996             2.463784           12.126997  11.705816   \n",
       "\n",
       "     val_mean_absolute_error  val_mean_squared_error  epoch  \n",
       "245                 2.468826               11.877081    245  \n",
       "246                 2.488812               11.913591    246  \n",
       "247                 2.460078               11.849238    247  \n",
       "248                 2.446876               11.696174    248  \n",
       "249                 2.445721               11.705815    249  "
      ]
     },
     "execution_count": 21,
     "metadata": {},
     "output_type": "execute_result"
    }
   ],
   "source": [
    "hist_A = pd.DataFrame(history_object_A.history)\n",
    "hist_A['epoch'] = history_object_A.epoch\n",
    "hist_A.tail()"
   ]
  },
  {
   "cell_type": "code",
   "execution_count": 22,
   "metadata": {},
   "outputs": [
    {
     "data": {
      "text/html": [
       "<div>\n",
       "<style>\n",
       "    .dataframe thead tr:only-child th {\n",
       "        text-align: right;\n",
       "    }\n",
       "\n",
       "    .dataframe thead th {\n",
       "        text-align: left;\n",
       "    }\n",
       "\n",
       "    .dataframe tbody tr th {\n",
       "        vertical-align: top;\n",
       "    }\n",
       "</style>\n",
       "<table border=\"1\" class=\"dataframe\">\n",
       "  <thead>\n",
       "    <tr style=\"text-align: right;\">\n",
       "      <th></th>\n",
       "      <th>loss</th>\n",
       "      <th>mean_absolute_error</th>\n",
       "      <th>mean_squared_error</th>\n",
       "      <th>val_loss</th>\n",
       "      <th>val_mean_absolute_error</th>\n",
       "      <th>val_mean_squared_error</th>\n",
       "      <th>epoch</th>\n",
       "    </tr>\n",
       "  </thead>\n",
       "  <tbody>\n",
       "    <tr>\n",
       "      <th>245</th>\n",
       "      <td>1.410579</td>\n",
       "      <td>0.762577</td>\n",
       "      <td>1.410579</td>\n",
       "      <td>4.580906</td>\n",
       "      <td>1.047420</td>\n",
       "      <td>4.580906</td>\n",
       "      <td>245</td>\n",
       "    </tr>\n",
       "    <tr>\n",
       "      <th>246</th>\n",
       "      <td>1.377511</td>\n",
       "      <td>0.745552</td>\n",
       "      <td>1.377511</td>\n",
       "      <td>3.796532</td>\n",
       "      <td>1.007687</td>\n",
       "      <td>3.796531</td>\n",
       "      <td>246</td>\n",
       "    </tr>\n",
       "    <tr>\n",
       "      <th>247</th>\n",
       "      <td>1.384167</td>\n",
       "      <td>0.740600</td>\n",
       "      <td>1.384168</td>\n",
       "      <td>4.054502</td>\n",
       "      <td>0.892729</td>\n",
       "      <td>4.054502</td>\n",
       "      <td>247</td>\n",
       "    </tr>\n",
       "    <tr>\n",
       "      <th>248</th>\n",
       "      <td>1.340257</td>\n",
       "      <td>0.745355</td>\n",
       "      <td>1.340257</td>\n",
       "      <td>4.019550</td>\n",
       "      <td>0.950508</td>\n",
       "      <td>4.019549</td>\n",
       "      <td>248</td>\n",
       "    </tr>\n",
       "    <tr>\n",
       "      <th>249</th>\n",
       "      <td>1.493725</td>\n",
       "      <td>0.755956</td>\n",
       "      <td>1.493725</td>\n",
       "      <td>3.803321</td>\n",
       "      <td>0.819453</td>\n",
       "      <td>3.803321</td>\n",
       "      <td>249</td>\n",
       "    </tr>\n",
       "  </tbody>\n",
       "</table>\n",
       "</div>"
      ],
      "text/plain": [
       "         loss  mean_absolute_error  mean_squared_error  val_loss  \\\n",
       "245  1.410579             0.762577            1.410579  4.580906   \n",
       "246  1.377511             0.745552            1.377511  3.796532   \n",
       "247  1.384167             0.740600            1.384168  4.054502   \n",
       "248  1.340257             0.745355            1.340257  4.019550   \n",
       "249  1.493725             0.755956            1.493725  3.803321   \n",
       "\n",
       "     val_mean_absolute_error  val_mean_squared_error  epoch  \n",
       "245                 1.047420                4.580906    245  \n",
       "246                 1.007687                3.796531    246  \n",
       "247                 0.892729                4.054502    247  \n",
       "248                 0.950508                4.019549    248  \n",
       "249                 0.819453                3.803321    249  "
      ]
     },
     "execution_count": 22,
     "metadata": {},
     "output_type": "execute_result"
    }
   ],
   "source": [
    "hist_B = pd.DataFrame(history_object_B.history)\n",
    "hist_B['epoch'] = history_object_B.epoch\n",
    "hist_B.tail()"
   ]
  },
  {
   "cell_type": "code",
   "execution_count": 38,
   "metadata": {},
   "outputs": [
    {
     "data": {
      "text/html": [
       "<div>\n",
       "<style>\n",
       "    .dataframe thead tr:only-child th {\n",
       "        text-align: right;\n",
       "    }\n",
       "\n",
       "    .dataframe thead th {\n",
       "        text-align: left;\n",
       "    }\n",
       "\n",
       "    .dataframe tbody tr th {\n",
       "        vertical-align: top;\n",
       "    }\n",
       "</style>\n",
       "<table border=\"1\" class=\"dataframe\">\n",
       "  <thead>\n",
       "    <tr style=\"text-align: right;\">\n",
       "      <th></th>\n",
       "      <th>loss</th>\n",
       "      <th>mean_absolute_error</th>\n",
       "      <th>mean_squared_error</th>\n",
       "      <th>val_loss</th>\n",
       "      <th>val_mean_absolute_error</th>\n",
       "      <th>val_mean_squared_error</th>\n",
       "      <th>epoch</th>\n",
       "    </tr>\n",
       "  </thead>\n",
       "  <tbody>\n",
       "    <tr>\n",
       "      <th>245</th>\n",
       "      <td>0.670710</td>\n",
       "      <td>0.535833</td>\n",
       "      <td>0.670710</td>\n",
       "      <td>3.705482</td>\n",
       "      <td>0.955195</td>\n",
       "      <td>3.705482</td>\n",
       "      <td>245</td>\n",
       "    </tr>\n",
       "    <tr>\n",
       "      <th>246</th>\n",
       "      <td>0.716096</td>\n",
       "      <td>0.529364</td>\n",
       "      <td>0.716096</td>\n",
       "      <td>3.758142</td>\n",
       "      <td>0.975171</td>\n",
       "      <td>3.758142</td>\n",
       "      <td>246</td>\n",
       "    </tr>\n",
       "    <tr>\n",
       "      <th>247</th>\n",
       "      <td>0.693716</td>\n",
       "      <td>0.531014</td>\n",
       "      <td>0.693716</td>\n",
       "      <td>3.363619</td>\n",
       "      <td>0.611401</td>\n",
       "      <td>3.363619</td>\n",
       "      <td>247</td>\n",
       "    </tr>\n",
       "    <tr>\n",
       "      <th>248</th>\n",
       "      <td>0.672549</td>\n",
       "      <td>0.522840</td>\n",
       "      <td>0.672549</td>\n",
       "      <td>4.317245</td>\n",
       "      <td>0.890372</td>\n",
       "      <td>4.317245</td>\n",
       "      <td>248</td>\n",
       "    </tr>\n",
       "    <tr>\n",
       "      <th>249</th>\n",
       "      <td>0.717246</td>\n",
       "      <td>0.536508</td>\n",
       "      <td>0.717246</td>\n",
       "      <td>3.381564</td>\n",
       "      <td>0.767451</td>\n",
       "      <td>3.381564</td>\n",
       "      <td>249</td>\n",
       "    </tr>\n",
       "  </tbody>\n",
       "</table>\n",
       "</div>"
      ],
      "text/plain": [
       "         loss  mean_absolute_error  mean_squared_error  val_loss  \\\n",
       "245  0.670710             0.535833            0.670710  3.705482   \n",
       "246  0.716096             0.529364            0.716096  3.758142   \n",
       "247  0.693716             0.531014            0.693716  3.363619   \n",
       "248  0.672549             0.522840            0.672549  4.317245   \n",
       "249  0.717246             0.536508            0.717246  3.381564   \n",
       "\n",
       "     val_mean_absolute_error  val_mean_squared_error  epoch  \n",
       "245                 0.955195                3.705482    245  \n",
       "246                 0.975171                3.758142    246  \n",
       "247                 0.611401                3.363619    247  \n",
       "248                 0.890372                4.317245    248  \n",
       "249                 0.767451                3.381564    249  "
      ]
     },
     "execution_count": 38,
     "metadata": {},
     "output_type": "execute_result"
    }
   ],
   "source": [
    "hist_C = pd.DataFrame(history_object_C.history)\n",
    "hist_C['epoch'] = history_object_C.epoch\n",
    "hist_C.tail()"
   ]
  },
  {
   "cell_type": "code",
   "execution_count": 39,
   "metadata": {
    "collapsed": true
   },
   "outputs": [],
   "source": [
    "# For these plots, our error is super low. There might be bugs because of the way we normalize\n",
    "# TODO: Fix normalization\n",
    "\n",
    "def plot_history(history):\n",
    "  hist = pd.DataFrame(history.history)\n",
    "  hist['epoch'] = history.epoch\n",
    "  \n",
    "  plt.figure()\n",
    "  plt.xlabel('Epoch')\n",
    "  plt.ylabel('Mean Abs Error [MPG]')\n",
    "  plt.plot(hist['epoch'], hist['mean_absolute_error'],\n",
    "           label='Train Error')\n",
    "  plt.plot(hist['epoch'], hist['val_mean_absolute_error'],\n",
    "           label = 'Val Error')\n",
    "  plt.xlim([0,250])\n",
    "  plt.ylim([0,10])\n",
    "  plt.legend()\n",
    "  \n",
    "  plt.figure()\n",
    "  plt.xlabel('Epoch')\n",
    "  plt.ylabel('Mean Square Error [$MPG^2$]')\n",
    "  plt.plot(hist['epoch'], hist['mean_squared_error'],\n",
    "           label='Train Error')\n",
    "  plt.plot(hist['epoch'], hist['val_mean_squared_error'],\n",
    "           label = 'Val Error')\n",
    "  plt.xlim([0,250])\n",
    "  plt.ylim([0,100])\n",
    "  plt.legend()\n",
    "  plt.show()"
   ]
  },
  {
   "cell_type": "code",
   "execution_count": 40,
   "metadata": {},
   "outputs": [
    {
     "data": {
      "image/png": "[encoded data removed]",
      "text/plain": [
       "<matplotlib.figure.Figure at 0x1a2c534908>"
      ]
     },
     "metadata": {
      "needs_background": "light"
     },
     "output_type": "display_data"
    },
    {
     "data": {
      "image/png": "[encoded data removed]",
      "text/plain": [
       "<matplotlib.figure.Figure at 0x1a2c67d390>"
      ]
     },
     "metadata": {
      "needs_background": "light"
     },
     "output_type": "display_data"
    }
   ],
   "source": [
    "plot_history(history_object_A)"
   ]
  },
  {
   "cell_type": "code",
   "execution_count": 41,
   "metadata": {},
   "outputs": [
    {
     "data": {
      "image/png": "[encoded data removed]",
      "text/plain": [
       "<matplotlib.figure.Figure at 0x1a2c97a208>"
      ]
     },
     "metadata": {
      "needs_background": "light"
     },
     "output_type": "display_data"
    },
    {
     "data": {
      "image/png": "[encoded data removed]",
      "text/plain": [
       "<matplotlib.figure.Figure at 0x1a2ca11ba8>"
      ]
     },
     "metadata": {
      "needs_background": "light"
     },
     "output_type": "display_data"
    }
   ],
   "source": [
    "plot_history(history_object_B)"
   ]
  },
  {
   "cell_type": "code",
   "execution_count": 42,
   "metadata": {},
   "outputs": [
    {
     "data": {
      "image/png": "[encoded data removed]",
      "text/plain": [
       "<matplotlib.figure.Figure at 0x1a2ca91470>"
      ]
     },
     "metadata": {
      "needs_background": "light"
     },
     "output_type": "display_data"
    },
    {
     "data": {
      "image/png": "[encoded data removed]",
      "text/plain": [
       "<matplotlib.figure.Figure at 0x1a2cb72a58>"
      ]
     },
     "metadata": {
      "needs_background": "light"
     },
     "output_type": "display_data"
    }
   ],
   "source": [
    "plot_history(history_object_C)"
   ]
  },
  {
   "cell_type": "code",
   "execution_count": 43,
   "metadata": {},
   "outputs": [
    {
     "data": {
      "image/png": "[encoded data removed]",
      "text/plain": [
       "<matplotlib.figure.Figure at 0x1a2cc7fc50>"
      ]
     },
     "metadata": {
      "needs_background": "light"
     },
     "output_type": "display_data"
    }
   ],
   "source": [
    "test_predictions = model_C.predict(normed_test).flatten()\n",
    "plt.scatter(test_labels, test_predictions)\n",
    "plt.xlabel('True Values [MPG]')\n",
    "plt.ylabel('Predictions [MPG]')\n",
    "plt.axis('equal')\n",
    "plt.axis('square')\n",
    "plt.xlim([0,plt.xlim()[1]])\n",
    "plt.ylim([0,plt.ylim()[1]])\n",
    "_ = plt.plot([-100, 100], [-100, 100])"
   ]
  },
  {
   "cell_type": "code",
   "execution_count": 44,
   "metadata": {},
   "outputs": [
    {
     "data": {
      "image/png": "[encoded data removed]",
      "text/plain": [
       "<matplotlib.figure.Figure at 0x1a2cb5c4e0>"
      ]
     },
     "metadata": {
      "needs_background": "light"
     },
     "output_type": "display_data"
    }
   ],
   "source": [
    "error = test_predictions - test_labels\n",
    "plt.hist(error, bins = 25)\n",
    "plt.xlabel(\"Prediction Error [MPG]\")\n",
    "_ = plt.ylabel(\"Count\")"
   ]
  },
  {
   "cell_type": "code",
   "execution_count": 51,
   "metadata": {},
   "outputs": [
    {
     "data": {
      "text/plain": [
       "5.272769177718945"
      ]
     },
     "execution_count": 51,
     "metadata": {},
     "output_type": "execute_result"
    }
   ],
   "source": [
    "#https://sciencenotes.org/calculate-percent-error/\n",
    "difference = abs(test_predictions - test_labels)\n",
    "#difference\n",
    "error = difference / test_labels\n",
    "#note that when I print unprocessed_error_percentage, it shows inf value. this is from dividing by 0 from the actual \n",
    "#test values that are 0 sometimes. \n",
    "unprocessed_error_percentage = error * 100\n",
    "np_error = np.array(unprocessed_error_percentage)\n",
    "a = np.ma.masked_invalid(np_error)\n",
    "error_percentage = a.sum() / (len(unprocessed_error_percentage) - np.count_nonzero(np.isinf(unprocessed_error_percentage)))\n",
    "error_percentage"
   ]
  },
  {
   "cell_type": "code",
   "execution_count": 53,
   "metadata": {},
   "outputs": [
    {
     "data": {
      "text/plain": [
       "94.72723082228106"
      ]
     },
     "execution_count": 53,
     "metadata": {},
     "output_type": "execute_result"
    }
   ],
   "source": [
    "accuracy = 100 - error_percentage\n",
    "accuracy"
   ]
  },
  {
   "cell_type": "code",
   "execution_count": 29,
   "metadata": {},
   "outputs": [
    {
     "data": {
      "text/plain": [
       "array([ 4.48576050e+01,  4.52369232e+01,  3.61552572e+00,  3.27657318e+01,\n",
       "        4.46039352e+01,  5.12351942e+00,  4.42458763e+01,  4.13176003e+01,\n",
       "        4.48144569e+01,  1.99545443e+00,  1.62736094e+00,  2.02614899e+01,\n",
       "        4.50001564e+01,  4.49663887e+01,  1.06400645e+00,  3.20921822e+01,\n",
       "        3.36537514e+01,  1.85434399e+01,  3.99270515e+01,  5.48335886e+00,\n",
       "        4.61473198e+01,  3.48755608e+01,  5.04506445e+00,  3.70200109e+00,\n",
       "        3.14785023e+01,  3.29485588e+01,  1.10041027e+01,  2.89937992e+01,\n",
       "        4.48840485e+01,  4.22321510e+01,  4.49383774e+01,  4.51871796e+01,\n",
       "        4.53259811e+01,  4.36398048e+01,  4.44077301e+01,  3.08966675e+01,\n",
       "        5.55121756e+00,  6.06083822e+00,  4.47468567e+01,  2.55896416e+01,\n",
       "        4.50317039e+01,  4.02518120e+01,  4.53088303e+01,  2.24163799e+01,\n",
       "        4.51530991e+01,  5.46422148e+00,  1.47541237e+01,  4.50207939e+01,\n",
       "        3.93501167e+01,  4.71353173e-01,  2.47391453e+01,  2.11476173e+01,\n",
       "        3.13315725e+00,  4.48022919e+01,  2.17831564e+00,  4.47586975e+01,\n",
       "        1.21843493e+00,  8.66022205e+00,  4.49955063e+01,  4.49444084e+01,\n",
       "        4.49043350e+01,  2.97627373e+01,  4.07252045e+01,  3.59413376e+01,\n",
       "        4.52565346e+01,  4.48442879e+01,  4.49240189e+01, -7.58695960e-01,\n",
       "        4.81555700e+00, -3.54694128e-02,  4.50587311e+01,  4.50390282e+01,\n",
       "        3.45280037e+01,  4.47438164e+01,  6.49159765e+00,  3.98917046e+01,\n",
       "        8.73874283e+00, -7.32794166e-01,  3.23458824e+01,  7.07923174e+00,\n",
       "        9.26049709e+00,  3.54100752e+00,  4.42687836e+01,  4.50614662e+01,\n",
       "        1.38964500e+01,  7.74209452e+00,  7.70703912e-01,  4.50739708e+01,\n",
       "        4.40866661e+01,  4.84829473e+00,  4.49839439e+01,  4.59733353e+01,\n",
       "        3.43206673e+01,  4.51588860e+01,  3.27426567e+01,  4.48055840e+01,\n",
       "        3.09503593e+01,  5.18858862e+00,  2.89790106e+00,  4.50706558e+01,\n",
       "        4.49403839e+01,  4.45063057e+01,  2.20825939e+01,  4.50159645e+01,\n",
       "        2.81697445e+01,  2.62303276e+01,  4.26665878e+01, -2.20852256e-01,\n",
       "        4.49030151e+01,  4.51166344e+01,  4.48320847e+01,  6.72168875e+00,\n",
       "        4.49597549e+01,  4.52590256e+01,  4.46852150e+01,  4.49553146e+01,\n",
       "        3.26534500e+01,  4.55749702e+01, -3.18365455e-01,  1.21538734e+01,\n",
       "        2.24927921e+01,  4.60375252e+01,  3.73256874e+01,  6.70481253e+00,\n",
       "        7.00867224e+00,  2.29121876e+01,  4.55940475e+01,  3.22676620e+01,\n",
       "        2.83960800e+01,  3.47541962e+01,  4.49891853e+01,  4.49431267e+01,\n",
       "        4.52437172e+01,  2.29639263e+01,  1.43741474e+01,  3.90928307e+01,\n",
       "        2.54295874e+00,  4.49132767e+01,  4.18603973e+01,  1.11176491e+01,\n",
       "        1.17609806e+01,  6.07217741e+00,  8.80145454e+00,  5.03605032e+00,\n",
       "        4.60023642e+00,  2.72979317e+01, -4.49782228e+00,  1.64345818e+01,\n",
       "        3.53754950e+00,  4.49856071e+01,  4.61947393e+00,  4.47811203e+01,\n",
       "        4.50416603e+01,  3.80897636e+01,  7.57470727e-01,  4.48014679e+01,\n",
       "        4.48056374e+01,  1.40521014e+00, -7.68076301e-01,  2.95254850e+00,\n",
       "        3.63431244e+01,  4.50065231e+01,  7.56315660e+00,  3.90311050e+01,\n",
       "        3.16313124e+00,  4.46033669e+01,  9.37645149e+00,  9.58253503e-01,\n",
       "        2.10952682e+01,  3.88552618e+00,  4.47144089e+01,  1.18374071e+01,\n",
       "        4.48657990e+01,  4.50908012e+01,  9.33782387e+00,  1.65983906e+01,\n",
       "        4.50128899e+01,  4.47550278e+01,  7.78546476e+00,  4.49882812e+01,\n",
       "        4.54667168e+01,  1.91759243e+01,  9.87935352e+00,  3.64698172e+00,\n",
       "        4.52243500e+01,  4.89375162e+00,  4.13197851e+00,  4.17404747e+01,\n",
       "        2.18543072e+01,  4.48711395e+01,  4.54313087e+01,  1.96431696e+00,\n",
       "        4.48421631e+01,  4.58241730e+01,  4.49087296e+01,  3.24045830e+01,\n",
       "        4.56309128e+01,  1.43595419e+01,  6.60194159e+00,  8.74388218e+00,\n",
       "        5.59763765e+00,  4.49197845e+01,  2.41795874e+00,  4.56000328e+01,\n",
       "        6.08543038e-01,  4.48825607e+01,  4.49261780e+01,  4.50111465e+01,\n",
       "        4.48097382e+01,  3.25095253e+01,  4.50755005e+01,  3.11875706e+01,\n",
       "        3.44179611e+01,  4.48791962e+01,  8.97119164e-01, -1.25632322e+00,\n",
       "        4.54216461e+01,  1.59613001e+00,  2.83869152e+01,  3.06604719e+00,\n",
       "        1.86213076e+00,  2.31654778e+01,  4.47972107e+01,  4.50494461e+01,\n",
       "        1.29301300e+01,  6.59704924e+00,  4.53566513e+01,  3.81930923e+01,\n",
       "        2.03662205e+01,  2.73822002e+01,  2.01354923e+01,  4.49490891e+01,\n",
       "        1.81075633e+00,  4.46879654e+01,  3.92944031e+01,  4.46438942e+01,\n",
       "        4.42173462e+01,  2.29941964e-01,  3.33723450e+01,  1.58010066e+00,\n",
       "        6.68070650e+00,  9.33759594e+00,  4.46985054e+01,  4.47838516e+01,\n",
       "        4.51751785e+01,  1.72453899e+01,  1.15785370e+01,  2.18027449e+00,\n",
       "        4.50853958e+01,  2.43206739e+00,  2.69317436e+01,  4.61084480e+01,\n",
       "        3.12686672e+01,  1.73949165e+01,  4.56910934e+01,  4.62452393e+01,\n",
       "        1.20424616e+00,  3.43088865e+00,  5.53788781e-01,  4.20837135e+01,\n",
       "        6.74794149e+00,  4.60847626e+01,  7.31418753e+00,  6.67043829e+00,\n",
       "        4.49933243e+01,  2.70482588e+00,  4.49974365e+01,  3.45216322e+00,\n",
       "        6.80600691e+00,  4.45436401e+01,  2.78906040e+01,  1.87944489e+01,\n",
       "        1.87371216e+01,  4.44314041e+01,  2.85688725e+01,  3.10833035e+01,\n",
       "        4.50833168e+01,  4.46086044e+01,  1.91543369e+01,  1.06210291e+00,\n",
       "        2.14814873e+01,  3.80253944e+01,  8.65606403e+00,  4.55298843e+01,\n",
       "        2.32651281e+00,  2.32082233e+01,  2.90010357e+01,  4.51780815e+01,\n",
       "        3.94964743e+00,  4.60241814e+01,  4.47932968e+01,  9.94567871e+00,\n",
       "        4.49922333e+01,  8.70265961e+00,  4.47171593e+01,  3.67821846e+01,\n",
       "        4.46552773e+01,  3.02535200e+00,  4.34409752e+01,  4.56572304e+01,\n",
       "        2.25349827e+01,  7.55072927e+00,  3.78180389e+01,  2.00745468e+01,\n",
       "        4.52214699e+01,  1.28239632e+01,  2.72878647e+01,  4.10793762e+01,\n",
       "        1.11416721e+01,  4.49550972e+01,  2.17240257e+01,  2.11623788e-01,\n",
       "        1.27636986e+01,  3.14506760e+01,  1.70230637e+01,  4.49021301e+01,\n",
       "        3.26924782e+01, -3.89156961e+00,  1.09382286e+01,  6.62278318e+00,\n",
       "        5.41440916e+00,  2.26012707e+01,  1.20031242e+01,  4.50041885e+01,\n",
       "        3.12096167e+00,  4.47513428e+01,  4.50236855e+01,  4.50719795e+01,\n",
       "        4.48408585e+01,  6.65602732e+00,  4.51010361e+01,  3.33715439e+01,\n",
       "        4.57476883e+01,  3.54406319e+01,  4.45714493e+01,  4.48487015e+01,\n",
       "        3.81803017e+01,  4.47543449e+01,  3.71643972e+00,  4.49728699e+01,\n",
       "        2.38216724e+01,  4.42883339e+01,  4.45706711e+01,  4.47005234e+01,\n",
       "        1.34474373e+01,  2.05476403e-01,  4.46778984e+01,  4.89167738e+00,\n",
       "        9.27925682e+00,  3.30716467e+00,  3.25499077e+01,  4.45056000e+01,\n",
       "        1.00341930e+01,  8.92803192e+00,  2.87844229e+00,  4.45940018e+01,\n",
       "        5.71528578e+00,  2.88268051e+01,  2.12092113e+01,  2.04248381e+00,\n",
       "        2.65100708e+01,  1.41427727e+01,  2.55969334e+01,  9.38939953e+00,\n",
       "        3.49004326e+01,  6.79004908e+00,  6.17215776e+00,  1.98743744e+01,\n",
       "        4.49665909e+01,  1.53314314e+01,  4.47711258e+01,  4.53284912e+01,\n",
       "        8.83664322e+00,  5.41505456e-01,  3.61733398e+01,  2.39529743e+01,\n",
       "        4.50606232e+01,  5.13768911e+00,  8.88598347e+00,  8.33865452e+00,\n",
       "        3.38153610e+01,  3.85155067e+01,  4.49214058e+01,  4.52551689e+01,\n",
       "        3.88724442e+01,  3.35177078e+01,  3.70444250e+00,  2.54809322e+01,\n",
       "        3.30103340e+01,  1.02886658e+01,  1.92568569e+01,  7.47817659e+00,\n",
       "        3.41517677e+01,  1.57611771e+01,  8.99076939e+00,  2.81689978e+00,\n",
       "        4.48497887e+01,  4.50297966e+01,  4.30839081e+01,  4.46271133e+01,\n",
       "        4.82566214e+00, -2.10283637e-01,  1.52585125e+01,  4.85367432e+01,\n",
       "        1.29251633e+01,  1.29243624e+00,  9.63172555e-01,  3.46554222e+01,\n",
       "        1.38989897e+01,  4.52366791e+01,  3.62940178e+01,  4.49132004e+01,\n",
       "        4.07391548e+01,  2.39980183e+01,  4.50326004e+01,  4.50208054e+01,\n",
       "        2.02332630e+01,  8.84153008e-01,  1.85246181e+01,  7.81931400e+00,\n",
       "        4.85194702e+01,  5.03967810e+00,  4.50716591e+01,  4.38540726e+01,\n",
       "        4.49945145e+01,  4.49365273e+01,  9.78907871e+00,  4.55783005e+01,\n",
       "        4.49966469e+01,  4.51073570e+01,  4.55915527e+01,  4.38435440e+01,\n",
       "        4.48950806e+01,  4.46048241e+01,  1.39052181e+01,  4.47662811e+01,\n",
       "        2.03594160e+00,  3.97305946e+01,  4.51548843e+01,  4.50300140e+01,\n",
       "        4.06110497e+01,  6.72002363e+00,  3.75113630e+00,  4.49133301e+01,\n",
       "        1.92939150e+00,  3.87407417e+01,  4.51812286e+01,  1.16491766e+01,\n",
       "        4.42541656e+01,  4.44181747e+01,  1.07625353e+00,  5.77299929e+00,\n",
       "        4.48532486e+01,  1.60082855e+01,  4.46325645e+01,  7.23222494e+00,\n",
       "        4.50643768e+01,  1.75923557e+01,  1.14505787e+01,  4.48419876e+01,\n",
       "        1.29801626e+01,  4.48989792e+01,  8.86977577e+00,  4.51606674e+01,\n",
       "        1.97211993e+00,  4.48666229e+01,  2.30183887e+01,  2.99349251e+01,\n",
       "        6.78111672e-01,  2.32346668e+01,  3.06084309e+01,  3.02395973e+01,\n",
       "        4.12929764e+01,  3.78382072e+01,  1.16086483e+01,  1.46586466e+01,\n",
       "        1.16271181e+01,  4.56681595e+01,  5.37391305e-01,  2.52751303e+00,\n",
       "        4.33517265e+01,  4.42068138e+01,  2.69477558e+01,  4.55249710e+01,\n",
       "        1.16719542e+01,  1.85037155e+01,  2.54786062e+00,  2.68353825e+01,\n",
       "        2.77795925e+01,  2.95455952e+01,  4.52991714e+01,  3.53330116e+01,\n",
       "        3.55477638e+01,  8.05305123e-01,  1.67416096e+01,  4.48183746e+01,\n",
       "        1.42458086e+01,  4.49177589e+01,  4.59413261e+01,  4.74970551e+01,\n",
       "        2.50550032e+00,  4.53432045e+01,  1.31107283e+01,  7.75241613e+00,\n",
       "        3.37701378e+01,  2.60724258e+01,  4.62205315e+01,  4.49600563e+01,\n",
       "        5.31217241e+00,  2.07223034e+01,  4.50591354e+01,  4.51279488e+01,\n",
       "        4.47038269e+01,  4.63106384e+01,  1.81298220e+00,  8.51290417e+00,\n",
       "        4.49394417e+01,  2.08738852e+00,  7.03055525e+00,  1.30605698e+01,\n",
       "        4.52226486e+01,  3.58363867e+00,  1.32451811e+01,  4.49340477e+01,\n",
       "        3.74368553e+01,  4.12305689e+00,  4.49641151e+01,  4.48733406e+01,\n",
       "        4.48665428e+01,  4.25402527e+01,  1.84037037e+01,  9.75178432e+00,\n",
       "        1.06662216e+01,  1.64503613e+01,  3.88275480e+00,  7.77179098e+00,\n",
       "        2.46749496e+01,  1.97906971e+01,  3.00720768e+01,  4.92081976e+00,\n",
       "        4.53186417e+01,  4.50643272e+01,  4.67189169e+00,  4.13916092e+01,\n",
       "        6.72449255e+00,  4.46574554e+01,  3.40319204e+00,  3.30819092e+01,\n",
       "        3.87057724e+01,  4.49208832e+01,  6.36802053e+00,  4.53133316e+01,\n",
       "        4.48887329e+01,  4.49355011e+01,  1.98096123e+01,  2.13622236e+00,\n",
       "        1.90887814e+01,  1.08918629e+01,  4.76680794e+01,  4.51033096e+01,\n",
       "        4.50516815e+01,  1.05837193e+01,  4.49871559e+01,  2.59257603e+01,\n",
       "        4.37996025e+01,  4.99727583e+00,  3.68255758e+00,  6.51288462e+00,\n",
       "        4.50010338e+01,  1.21284504e+01,  7.04570413e-01,  1.25454273e+01,\n",
       "        3.25456762e+00,  2.33357582e+01,  4.49449959e+01,  4.47887802e+01,\n",
       "        4.46815224e+01,  4.46136856e+01,  2.40950346e+00,  7.52732873e-01,\n",
       "        7.74932432e+00,  4.49536972e+01,  4.49910126e+01,  3.74503365e+01,\n",
       "        2.83244658e+00,  1.81932392e+01,  1.31427157e+00,  3.56372681e+01,\n",
       "        5.52716112e+00,  2.14938879e+00,  4.82974768e+00,  4.50627785e+01,\n",
       "        8.62638474e+00,  2.22869205e+01,  1.05161285e+01,  1.57918704e+00,\n",
       "        1.01047249e+01,  1.04085283e+01,  1.24860821e+01,  1.09575396e+01,\n",
       "        6.85555983e+00,  4.50672302e+01,  4.48646469e+01,  7.86457205e+00,\n",
       "        4.53412590e+01,  4.50855026e+01,  4.22525930e+00,  3.33115339e+00,\n",
       "        4.49371414e+01,  5.87002516e+00,  9.38975620e+00,  3.05460186e+01,\n",
       "        4.62509155e+01,  3.02854681e+00,  4.50070686e+01,  1.04051981e+01,\n",
       "        7.50865793e+00,  4.37391930e+01,  2.36855650e+00,  7.14084005e+00,\n",
       "        4.47137566e+01,  3.23746185e+01, -8.53599310e-02,  2.96548605e+00,\n",
       "        1.29858131e+01,  4.31215782e+01,  7.06292486e+00,  4.26531525e+01,\n",
       "        4.49257164e+01,  2.57089376e+00,  4.47596436e+01,  3.09547567e+00,\n",
       "        4.48494911e+01,  1.95213091e+00,  4.49801865e+01,  8.63481903e+00,\n",
       "        3.61038170e+01,  3.72236967e+00,  4.45898628e+01,  2.75564156e+01,\n",
       "        1.84352722e+01,  2.48729382e+01,  4.09383535e+00,  2.62072134e+00,\n",
       "        4.54905701e+01,  2.06490078e+01,  7.51556921e+00,  3.50257339e+01,\n",
       "        2.66629391e+01,  4.46330185e+01,  2.64755783e+01,  3.25904427e+01,\n",
       "        4.49331589e+01,  4.51174202e+01,  4.46100616e+01,  4.49588776e+01,\n",
       "        3.98670578e+01,  4.48792877e+01,  4.49073029e+01,  2.46558132e+01,\n",
       "        3.41087303e+01,  1.58956890e+01,  4.47240219e+01,  2.09404354e+01,\n",
       "        4.57776642e+01,  2.67741156e+00,  4.49579659e+01,  1.87353480e+00,\n",
       "       -4.44103599e-01,  4.49210968e+01,  3.49819221e+01,  4.58492050e+01,\n",
       "        4.49574776e+01,  4.76222944e+00,  8.37102532e-01,  5.10676813e+00,\n",
       "        3.33813620e+00,  1.01282873e+01,  2.46572208e+01,  4.47576523e+01,\n",
       "        1.59353411e+00,  4.50248184e+01,  1.18554039e+01,  1.74597895e+00,\n",
       "        2.01148090e+01,  4.02863083e+01,  2.33956509e+01,  4.38467560e+01,\n",
       "        4.49930038e+01,  1.10835419e+01,  4.49303131e+01,  4.13128614e+00,\n",
       "        8.53616357e-01, -4.28705573e-01,  1.52594852e+01,  4.53788910e+01,\n",
       "        1.93338375e+01,  6.96025801e+00,  4.49231110e+01,  4.47332077e+01,\n",
       "        3.90278053e+01,  4.52910500e+01,  1.27452469e+01,  4.50116272e+01,\n",
       "        4.47993660e+01,  3.73597183e+01,  4.50910873e+01,  8.12932968e+00,\n",
       "        3.20663214e+00,  4.49924240e+01,  1.67123966e+01,  1.20665693e+01,\n",
       "        4.57036438e+01,  4.50537453e+01,  4.59665604e+01,  8.06564713e+00,\n",
       "        4.51770325e+01,  1.88626614e+01,  1.83864558e+00,  2.73661184e+00,\n",
       "        4.50878372e+01,  4.52387276e+01,  1.01843989e+00,  1.75293770e+01,\n",
       "        4.25137863e+01,  4.49248581e+01,  2.74524097e+01,  5.62080908e+00,\n",
       "        4.41430511e+01,  4.47997971e+01,  1.04692717e+01,  3.60922203e+01,\n",
       "        4.48624496e+01,  4.49804077e+01,  2.00181732e+01,  4.49943504e+01,\n",
       "        2.20146885e+01,  4.47659531e+01,  1.92682629e+01,  4.51302719e+01,\n",
       "        8.05976295e+00,  1.16724551e+00,  3.36083870e+01,  8.19593906e+00,\n",
       "        8.82572174e+00,  4.48436279e+01,  4.45703812e+01,  5.88296461e+00,\n",
       "        3.68516302e+00,  4.48771362e+01,  1.51391068e+01,  4.51124878e+01,\n",
       "        5.35175085e+00,  4.49520226e+01,  4.49820442e+01,  7.17487669e+00,\n",
       "        1.60417118e+01,  4.27417297e+01,  4.77192831e+00,  6.97911215e+00,\n",
       "        2.31354485e+01,  1.39689951e+01,  6.33625174e+00,  1.59783518e+00,\n",
       "        3.95224905e+00,  9.72987175e+00,  7.85059500e+00,  4.55108261e+01,\n",
       "        7.27618265e+00,  1.89715824e+01,  5.75467348e+00,  3.43050232e+01,\n",
       "        4.41507864e+00,  4.37475319e+01,  2.27746849e+01,  3.21664238e+01,\n",
       "        2.16256237e+01,  4.47968864e+01,  5.18455839e+00,  4.51332283e+01,\n",
       "        1.54239237e+00,  2.31269436e+01,  4.49633751e+01,  4.03712273e+01,\n",
       "        4.48124161e+01,  1.88626444e+00,  2.32181759e+01,  2.83857117e+01,\n",
       "        3.79868965e+01,  1.16786594e+01,  4.81076384e+00,  4.50656891e+01,\n",
       "        1.94979630e+01,  1.34285946e+01,  4.50758514e+01,  4.46768646e+01,\n",
       "        4.44600792e+01,  2.39816999e+00,  4.50204391e+01,  4.49801407e+01,\n",
       "        4.54296608e+01,  1.80430186e+00,  2.62309217e+00,  6.76385260e+00,\n",
       "        4.48510895e+01,  2.56890059e+00,  1.38270664e+01,  3.84179068e+00,\n",
       "        1.72066653e+00,  5.80942297e+00,  2.12408781e+00,  4.45226517e+01,\n",
       "        2.90719891e+01,  1.71245098e+01,  6.38016367e+00,  1.61569824e+01,\n",
       "        2.26281762e-01,  4.47601509e+01,  3.86715317e+01,  4.50070419e+01,\n",
       "        7.41914511e+00,  1.81117954e+01,  1.94918787e+00,  3.80913887e+01,\n",
       "        1.37381144e+01,  4.53666725e+01,  4.27431984e+01,  4.51258545e+01,\n",
       "        6.20196939e-01,  1.16044998e+01,  4.47195358e+01,  4.51067085e+01,\n",
       "        4.52154541e+01,  4.48486137e+01,  4.50120430e+01,  4.92983389e+00,\n",
       "        3.85062904e+01,  4.45873108e+01,  2.38088179e+00,  6.28170824e+00,\n",
       "        2.00390339e+01,  4.51277084e+01,  4.41009760e+00,  2.50286436e+00,\n",
       "        4.47192001e+01,  4.52878189e+01,  1.84821475e+00,  4.49468307e+01,\n",
       "        2.32859955e+01,  5.49401426e+00,  5.74184656e-02,  8.69455242e+00,\n",
       "        4.45897827e+01,  3.27709007e+01,  1.43015575e+01,  4.49851265e+01,\n",
       "        8.31144142e+00,  5.75857115e+00,  2.21294079e+01,  4.49182396e+01,\n",
       "        1.18130722e+01,  4.10554457e+00,  4.45695877e+01,  4.50299988e+01,\n",
       "        3.54372025e+01,  5.74443388e+00,  4.08025513e+01,  1.66821766e+01,\n",
       "        3.47725029e+01,  3.64690423e-01,  2.85630074e+01,  4.50088768e+01,\n",
       "        4.49937439e+01,  4.46625595e+01,  3.03399773e+01,  4.54038849e+01,\n",
       "        4.50101089e+01,  4.48126831e+01, -5.84932685e-01,  7.11818361e+00,\n",
       "        4.59836044e+01,  3.58786507e+01,  4.48634491e+01,  1.12687454e+01,\n",
       "        4.50712357e+01,  4.44911461e+01,  2.00228643e+00,  6.38307905e+00,\n",
       "        4.52499161e+01,  4.61589956e+00,  6.49050474e+00,  8.39705372e+00,\n",
       "        3.83866692e+01,  2.10627232e+01,  1.78972971e+00,  4.52168274e+01,\n",
       "        4.49479246e+00,  4.34960289e+01,  2.24340496e+01,  4.54487915e+01,\n",
       "        4.45389977e+01,  4.51737518e+01,  4.47931366e+01,  6.62836218e+00,\n",
       "        2.65855360e+00,  2.61335516e+00,  4.33288269e+01,  4.64835129e+01,\n",
       "        1.21204281e+01,  4.50956841e+01,  1.52724953e+01,  5.84225607e+00,\n",
       "        1.07201195e+01,  5.97296095e+00,  1.78134193e+01, -3.32052588e-01,\n",
       "        4.41930161e+01,  1.62379861e-01,  3.58454971e+01,  5.82672167e+00,\n",
       "        5.03447104e+00,  7.77876329e+00,  1.91473122e+01,  9.66115570e+00,\n",
       "        4.27089005e+01,  4.49916534e+01,  4.48475189e+01,  3.47259979e+01,\n",
       "        3.98888016e+01,  5.67992544e+00,  4.52136497e+01,  3.74632683e+01,\n",
       "        4.49156685e+01,  4.44530449e+01,  1.54174433e+01,  4.53221741e+01,\n",
       "        3.49583397e+01,  3.89808159e+01,  1.57397261e+01,  4.46334724e+01,\n",
       "        1.39491367e+01,  2.70966291e+00,  2.71229506e+00,  4.49484329e+01,\n",
       "        4.49254036e+01,  4.54346008e+01,  4.52982254e+01,  4.49287262e+01,\n",
       "        4.51261406e+01,  4.47101860e+01,  3.95844498e+01,  3.46212540e+01,\n",
       "        4.47691841e+01,  3.10876064e+01,  7.88867712e+00,  2.36384344e+00,\n",
       "        3.84106407e+01,  5.03352308e+00,  1.64288673e+01,  1.16216688e+01,\n",
       "        2.16159229e+01,  1.72519093e+01,  1.19873190e+01,  4.45432930e+01,\n",
       "        5.83367300e+00,  4.50071373e+01,  4.65644302e+01,  7.41807580e-01,\n",
       "        2.38649349e+01,  9.62110138e+00,  1.17791140e+00,  4.15161972e+01],\n",
       "      dtype=float32)"
      ]
     },
     "execution_count": 29,
     "metadata": {},
     "output_type": "execute_result"
    }
   ],
   "source": [
    "test_predictions"
   ]
  },
  {
   "cell_type": "code",
   "execution_count": 30,
   "metadata": {},
   "outputs": [
    {
     "data": {
      "text/plain": [
       "3416    45.000000\n",
       "3812    45.000000\n",
       "3070     0.000000\n",
       "2387    32.601070\n",
       "3784    45.000000\n",
       "3850     5.123758\n",
       "3439    45.000000\n",
       "123     43.658130\n",
       "4089    45.000000\n",
       "3047     0.000000\n",
       "3282     0.000000\n",
       "2516    14.104080\n",
       "1715    45.000000\n",
       "2948    45.000000\n",
       "4795     0.000000\n",
       "3246    29.569940\n",
       "3374    27.626910\n",
       "2045    20.024660\n",
       "1590    41.178230\n",
       "4418     6.219352\n",
       "20      45.000000\n",
       "593     36.673190\n",
       "2874     0.000000\n",
       "2876     0.000000\n",
       "3957    31.553920\n",
       "993     28.147510\n",
       "1296    11.834980\n",
       "4366    28.768630\n",
       "586     45.000000\n",
       "47      45.000000\n",
       "          ...    \n",
       "60       0.000000\n",
       "1743    45.000000\n",
       "1474    45.000000\n",
       "2454    45.000000\n",
       "4232    45.000000\n",
       "4830    45.000000\n",
       "1594    45.000000\n",
       "4095    45.000000\n",
       "2529    35.580990\n",
       "2533    27.880390\n",
       "1442    45.000000\n",
       "4285    33.105730\n",
       "3150     8.649643\n",
       "1918     0.000000\n",
       "2257    29.978170\n",
       "2717     0.000000\n",
       "2515    11.819040\n",
       "1789    12.020390\n",
       "1611    23.154220\n",
       "3463    17.797440\n",
       "3992    15.446910\n",
       "3805    45.000000\n",
       "964      4.640251\n",
       "158     45.000000\n",
       "3791    45.000000\n",
       "68       0.000000\n",
       "3700    23.744200\n",
       "4549    10.817600\n",
       "67       0.000000\n",
       "425     41.058850\n",
       "Name: Instant fuel economy (MPG), Length: 972, dtype: float64"
      ]
     },
     "execution_count": 30,
     "metadata": {},
     "output_type": "execute_result"
    }
   ],
   "source": [
    "test_labels"
   ]
  },
  {
   "cell_type": "code",
   "execution_count": null,
   "metadata": {
    "collapsed": true
   },
   "outputs": [],
   "source": []
  }
 ],
 "metadata": {
  "kernelspec": {
   "display_name": "Python 3",
   "language": "python",
   "name": "python3"
  },
  "language_info": {
   "codemirror_mode": {
    "name": "ipython",
    "version": 3
   },
   "file_extension": ".py",
   "mimetype": "text/x-python",
   "name": "python",
   "nbconvert_exporter": "python",
   "pygments_lexer": "ipython3",
   "version": "3.6.8"
  }
 },
 "nbformat": 4,
 "nbformat_minor": 2
}
